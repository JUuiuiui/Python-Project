{
 "cells": [
  {
   "cell_type": "code",
   "execution_count": 1,
   "id": "7d3dc26d",
   "metadata": {},
   "outputs": [],
   "source": [
    "import requests"
   ]
  },
  {
   "cell_type": "code",
   "execution_count": 3,
   "id": "ff252fd4",
   "metadata": {},
   "outputs": [],
   "source": [
    "datestr = \"20220106\""
   ]
  },
  {
   "cell_type": "code",
   "execution_count": 4,
   "id": "f3cfd188",
   "metadata": {},
   "outputs": [],
   "source": [
    "r = requests.get('https://www.twse.com.tw/exchangeReport/MI_INDEX?response=csv&'+ datestr +'&type=ALLBUT0999')"
   ]
  },
  {
   "cell_type": "code",
   "execution_count": 6,
   "id": "23cb2ec6",
   "metadata": {},
   "outputs": [],
   "source": [
    "import pandas as pd"
   ]
  },
  {
   "cell_type": "code",
   "execution_count": 8,
   "id": "7c1e46de",
   "metadata": {},
   "outputs": [],
   "source": [
    "stock_symbol = \"2330\""
   ]
  },
  {
   "cell_type": "code",
   "execution_count": 10,
   "id": "f45e832f",
   "metadata": {},
   "outputs": [],
   "source": [
    "r_text = r.text.split('\\n')\n",
    "r_text = [i for i in r_text if len(i.split('\",'))==17 and i[0]!='=']\n",
    "data = \"\\n\".join(r_text)"
   ]
  },
  {
   "cell_type": "code",
   "execution_count": 12,
   "id": "f539f35b",
   "metadata": {},
   "outputs": [],
   "source": [
    "from io import StringIO"
   ]
  },
  {
   "cell_type": "code",
   "execution_count": 13,
   "id": "533fe3ba",
   "metadata": {},
   "outputs": [
    {
     "name": "stdout",
     "output_type": "stream",
     "text": [
      "     證券代號 證券名稱        成交股數    成交筆數            成交金額     開盤價     最高價     最低價  \\\n",
      "278  2330  台積電  57,490,736  53,430  36,817,638,522  638.00  646.00  636.00   \n",
      "\n",
      "        收盤價 漲跌(+/-)  漲跌價差  最後揭示買價 最後揭示買量  最後揭示賣價 最後揭示賣量    本益比  \n",
      "278  644.00       -   6.0  643.00     24  644.00    183  29.14  \n"
     ]
    }
   ],
   "source": [
    "df = pd.read_csv(StringIO(\"\\n\".join(r_text)),header=0)\n",
    "df = df.drop(columns = ['Unnamed: 16'])\n",
    "filter_df = df[df[\"證券代號\"]==stock_symbol]\n",
    "print(filter_df)"
   ]
  },
  {
   "cell_type": "code",
   "execution_count": 15,
   "id": "4d5c191e",
   "metadata": {},
   "outputs": [],
   "source": [
    "import datetime"
   ]
  },
  {
   "cell_type": "code",
   "execution_count": 16,
   "id": "f2f76f65",
   "metadata": {},
   "outputs": [
    {
     "name": "stdout",
     "output_type": "stream",
     "text": [
      "3\n"
     ]
    }
   ],
   "source": [
    "date = '20220106'\n",
    "date = datetime.datetime.strptime(date,'%Y%m%d')\n",
    "print(date.weekday())"
   ]
  },
  {
   "cell_type": "code",
   "execution_count": 22,
   "id": "93620b2f",
   "metadata": {},
   "outputs": [
    {
     "name": "stdout",
     "output_type": "stream",
     "text": [
      "['20211201', '20211202', '20211203', '20211204', '20211206', '20211207', '20211208', '20211209', '20211210', '20211211', '20211213', '20211214', '20211215', '20211216', '20211217', '20211218', '20211220', '20211221', '20211222', '20211223', '20211224', '20211225', '20211227', '20211228', '20211229', '20211230', '20211231', '20220101', '20220103', '20220104', '20220105', '20220106']\n"
     ]
    }
   ],
   "source": [
    "start_date_str = \"20211201\"\n",
    "end_date_str = \"20220106\"\n",
    "\n",
    "start_date = datetime.datetime.strptime(start_date_str,'%Y%m%d')\n",
    "end_date = datetime.datetime.strptime(end_date_str,'%Y%m%d')\n",
    "\n",
    "totaldays = (end_date-start_date).days+1\n",
    "dates=[]\n",
    "for daynumber in range(totaldays):\n",
    "    date = (start_date + datetime.timedelta(days = daynumber))\n",
    "    if date.weekday()<6:\n",
    "        dates.append(date.strftime('%Y%m%d'))\n",
    "print(dates)"
   ]
  },
  {
   "cell_type": "code",
   "execution_count": null,
   "id": "5c3ab860",
   "metadata": {},
   "outputs": [],
   "source": []
  }
 ],
 "metadata": {
  "kernelspec": {
   "display_name": "Python 3",
   "language": "python",
   "name": "python3"
  },
  "language_info": {
   "codemirror_mode": {
    "name": "ipython",
    "version": 3
   },
   "file_extension": ".py",
   "mimetype": "text/x-python",
   "name": "python",
   "nbconvert_exporter": "python",
   "pygments_lexer": "ipython3",
   "version": "3.8.8"
  }
 },
 "nbformat": 4,
 "nbformat_minor": 5
}
