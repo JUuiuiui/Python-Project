{
 "cells": [
  {
   "cell_type": "code",
   "execution_count": 1,
   "id": "91289333",
   "metadata": {},
   "outputs": [],
   "source": [
    "%matplotlib inline\n",
    "import numpy as np\n",
    "import matplotlib.pyplot as plt"
   ]
  },
  {
   "cell_type": "code",
   "execution_count": 2,
   "id": "29e8acbc",
   "metadata": {},
   "outputs": [],
   "source": [
    "from ipywidgets import interact\n",
    "from ipywidgets import interact_manual"
   ]
  },
  {
   "cell_type": "markdown",
   "id": "6c569af5",
   "metadata": {},
   "source": [
    "# 第一題：抽點系統"
   ]
  },
  {
   "cell_type": "code",
   "execution_count": 3,
   "id": "b2441b48",
   "metadata": {},
   "outputs": [],
   "source": [
    "def reschoice():\n",
    "    restaurant = [\"圭味\",\"大干\",\"多田\",\"十塔\",\"皮皮恰恰\"]\n",
    "    return np.random.choice(restaurant)"
   ]
  },
  {
   "cell_type": "code",
   "execution_count": 4,
   "id": "740e6140",
   "metadata": {},
   "outputs": [
    {
     "data": {
      "application/vnd.jupyter.widget-view+json": {
       "model_id": "004af70dc1234ccaa5ffde984b5c4f49",
       "version_major": 2,
       "version_minor": 0
      },
      "text/plain": [
       "interactive(children=(Button(description='Run Interact', style=ButtonStyle()), Output()), _dom_classes=('widge…"
      ]
     },
     "metadata": {},
     "output_type": "display_data"
    },
    {
     "data": {
      "text/plain": [
       "<function __main__.reschoice()>"
      ]
     },
     "execution_count": 4,
     "metadata": {},
     "output_type": "execute_result"
    }
   ],
   "source": [
    "interact_manual(reschoice)"
   ]
  },
  {
   "cell_type": "markdown",
   "id": "6f75bb8e",
   "metadata": {},
   "source": [
    "### NOTE&PROBLEM :"
   ]
  },
  {
   "cell_type": "markdown",
   "id": "b740c85e",
   "metadata": {},
   "source": [
    "- 第一次打的時候把interact_manual(reschoice)打成interact_manual(reschoice())  \n",
    "  其他沒啥大問題～"
   ]
  },
  {
   "cell_type": "markdown",
   "id": "224867e1",
   "metadata": {},
   "source": [
    "# 第二題：變長變短"
   ]
  },
  {
   "cell_type": "code",
   "execution_count": 5,
   "id": "35fdcb8f",
   "metadata": {},
   "outputs": [],
   "source": [
    "def bar(x):\n",
    "    emo = \"ᕕ(ᐛ)ᕗ\"\n",
    "    return x*emo"
   ]
  },
  {
   "cell_type": "code",
   "execution_count": 6,
   "id": "ea70b99c",
   "metadata": {},
   "outputs": [
    {
     "data": {
      "application/vnd.jupyter.widget-view+json": {
       "model_id": "98d6ea5812a64021b48cb2d2f73c81f3",
       "version_major": 2,
       "version_minor": 0
      },
      "text/plain": [
       "interactive(children=(IntSlider(value=10, description='x', max=20), Output()), _dom_classes=('widget-interact'…"
      ]
     },
     "metadata": {},
     "output_type": "display_data"
    },
    {
     "data": {
      "text/plain": [
       "<function __main__.bar(x)>"
      ]
     },
     "execution_count": 6,
     "metadata": {},
     "output_type": "execute_result"
    }
   ],
   "source": [
    "interact(bar,x=(0,20))"
   ]
  },
  {
   "cell_type": "markdown",
   "id": "ecdb6fb1",
   "metadata": {},
   "source": [
    "# 第三題：函數圖形也能互動"
   ]
  },
  {
   "cell_type": "code",
   "execution_count": 7,
   "id": "20a2bd34",
   "metadata": {},
   "outputs": [],
   "source": [
    "x = np.linspace(-3.3**0.5, 3.3**0.5, 1000)"
   ]
  },
  {
   "cell_type": "code",
   "execution_count": 8,
   "id": "1d98ca4b",
   "metadata": {},
   "outputs": [],
   "source": [
    "def heart(n):\n",
    "    y = (x**2)**(1/3) + 0.9*np.sqrt(3.3 - x**2)*np.sin(n*np.pi*x)\n",
    "    plt.plot(x,y,color = 'red')\n",
    "    plt.xlim(-3,3) #為了讓愛心好看點，設置介面的範圍，跟第一週繪圖作業的方法一樣。\n",
    "    plt.show()"
   ]
  },
  {
   "cell_type": "code",
   "execution_count": 9,
   "id": "718ed99e",
   "metadata": {},
   "outputs": [
    {
     "data": {
      "application/vnd.jupyter.widget-view+json": {
       "model_id": "0bfb0e57b0d94474822a96855998d0d7",
       "version_major": 2,
       "version_minor": 0
      },
      "text/plain": [
       "interactive(children=(IntSlider(value=25, description='n', max=50), Output()), _dom_classes=('widget-interact'…"
      ]
     },
     "metadata": {},
     "output_type": "display_data"
    },
    {
     "data": {
      "text/plain": [
       "<function __main__.heart(n)>"
      ]
     },
     "execution_count": 9,
     "metadata": {},
     "output_type": "execute_result"
    }
   ],
   "source": [
    "interact(heart,n=(0,50))"
   ]
  },
  {
   "cell_type": "markdown",
   "id": "2eb0d11b",
   "metadata": {},
   "source": [
    "### NOTE&PROBLEM :"
   ]
  },
  {
   "cell_type": "markdown",
   "id": "5b6b8b23",
   "metadata": {},
   "source": [
    "- 愛心函數參考出處：  \n",
    "  https://blog.csdn.net/weixin_45816066/article/details/106380936  "
   ]
  },
  {
   "cell_type": "markdown",
   "id": "5ee768f9",
   "metadata": {},
   "source": [
    "- 前陣子不知道在哪裡看到用sin函數畫成的愛心，  \n",
    "  覺得很有趣想來試試看，  \n",
    "  不過用笛卡爾愛心試了很多次都試不出來，  \n",
    "  於是就去參考了網路上的愛心函數，  \n",
    "  改成interact版本～"
   ]
  },
  {
   "cell_type": "markdown",
   "id": "23223b93",
   "metadata": {},
   "source": [
    "# 挑戰題一：考試加權分數"
   ]
  },
  {
   "cell_type": "code",
   "execution_count": 10,
   "id": "37e80375",
   "metadata": {},
   "outputs": [],
   "source": [
    "w = {\n",
    "    \"土語系\": [2, 2, 0, 1, 0, 0, 0, 1, 1, 0],\n",
    "    \"財政系\": [1, 1.5, 0, 1.5, 0, 0, 0, 0, 0, 0],\n",
    "    \"金融系\": [1, 1.5, 0, 2, 0, 0, 0, 0, 0, 0],\n",
    "    \"國貿系\": [1.5, 2, 0, 2, 0, 0, 0, 0, 0, 0],\n",
    "    \"會計系\": [1.5, 2, 0, 2, 0, 0, 0, 1, 1, 0],\n",
    "    \"法律系\": [1, 2, 0, 1, 0, 0, 0, 1, 0, 1],\n",
    "    \"公行系\": [1, 1.5, 0, 1.25, 0, 0, 0, 0, 0, 1.25],\n",
    "    \"應數系\": [1, 1, 1.5, 0, 1, 1, 0, 0, 0, 0],\n",
    "    \"教育系\": [1.5, 2, 0, 1.25, 0, 0, 0, 1, 1, 0]} #建立字典\n",
    "gra = np.array([86.5, 79.4, 88.2, 96.5, 86.3, 76.8, 96.1, 78.5, 82.4, 88.6])"
   ]
  },
  {
   "cell_type": "code",
   "execution_count": 11,
   "id": "0ecdbeca",
   "metadata": {},
   "outputs": [],
   "source": [
    "def exam(n):\n",
    "    depart = np.array(n)\n",
    "    score = np.dot(depart,gra)\n",
    "    return \"您的分數：{:.1f}\".format(score)"
   ]
  },
  {
   "cell_type": "code",
   "execution_count": 12,
   "id": "ab551d2e",
   "metadata": {},
   "outputs": [
    {
     "data": {
      "application/vnd.jupyter.widget-view+json": {
       "model_id": "e6f6afe4f3d24f3683569bb0a8572a54",
       "version_major": 2,
       "version_minor": 0
      },
      "text/plain": [
       "interactive(children=(Dropdown(description='n', options={'土語系': [2, 2, 0, 1, 0, 0, 0, 1, 1, 0], '財政系': [1, 1.5…"
      ]
     },
     "metadata": {},
     "output_type": "display_data"
    },
    {
     "data": {
      "text/plain": [
       "<function __main__.exam(n)>"
      ]
     },
     "execution_count": 12,
     "metadata": {},
     "output_type": "execute_result"
    }
   ],
   "source": [
    "interact(exam,n=w)"
   ]
  },
  {
   "cell_type": "markdown",
   "id": "472b4e64",
   "metadata": {},
   "source": [
    "### NOTE&PROBLEM :"
   ]
  },
  {
   "cell_type": "markdown",
   "id": "3dae59d1",
   "metadata": {},
   "source": [
    "- "
   ]
  },
  {
   "cell_type": "markdown",
   "id": "50685f03",
   "metadata": {},
   "source": [
    "# 挑戰題二：身份證字號驗證機"
   ]
  },
  {
   "cell_type": "code",
   "execution_count": 13,
   "id": "c9d5e51e",
   "metadata": {},
   "outputs": [],
   "source": [
    "dict={\"A\":[1,0] , \"B\":[1,1] , \"C\":[1,2] , \"D\":[1,3] , \"E\":[1,4] , \"F\":[1,5] , \"G\":[1,6] , \"H\":[1,7] ,\n",
    "          \"I\":[3,4] , \"J\":[1,8] , \"K\":[1,9] , \"L\":[2,0] , \"M\":[2,1] , \"N\":[2,2] , \"O\":[3,5] , \"P\":[2,3] ,\n",
    "          \"Q\":[2,4] , \"R\":[2,5] , \"S\":[2,6] , \"T\":[2,7] , \"U\":[2,8] , \"V\":[2,9] , \"W\":[3,2] , \"X\":[3,0] , \n",
    "          \"Y\":[3,1] , \"Z\":[3,3]}#建立字典for第一個字元對照的數字"
   ]
  },
  {
   "cell_type": "markdown",
   "id": "3ec2173b",
   "metadata": {},
   "source": [
    "### 解法一"
   ]
  },
  {
   "cell_type": "code",
   "execution_count": 14,
   "id": "473d60f4",
   "metadata": {},
   "outputs": [],
   "source": [
    "def check_id1(id):\n",
    "    fir = dict[id[0]]#將輸入的值對照字典\n",
    "    SUM = int(fir[0])*1+int(fir[1])*9+int(id[1])*8+int(id[2])*7+int(id[3])*6+int(id[4])*5+int(id[5])*4+int(id[6])*3+int(id[7])*2+int(id[8])*1\n",
    "     #將流水號等加權後相加\n",
    "    remain = SUM%10 #相加之值取餘數\n",
    "    chk = 10-remain #由模數減去餘數得檢查號碼，若餘數為 0 時，則設定其檢查碼為 0\n",
    "    \n",
    "    if len(id) != 10:\n",
    "        print(\"輸入正確的身分證字號，不要玩我ㄛ～\")\n",
    "\n",
    "    if int(id[1]) == 1 or int(id[1]) == 2:     #剔除1或2以外的數字出現在第二個字元的id\n",
    "        if chk == int(id[9]) and chk != 10:    #檢查chk是否符合檢查碼\n",
    "            print(\"正確\")\n",
    "        elif chk == 10:                        #在chk出現10的情況下檢查id是否正確\n",
    "            if int(id[9])==0:\n",
    "                print(\"正確\")\n",
    "            else:\n",
    "                print(\"錯誤\")\n",
    "        else:\n",
    "            print(\"錯誤\")\n",
    "    else:\n",
    "        print(\"你是在搞笑？\")\n",
    "    \n",
    "    return"
   ]
  },
  {
   "cell_type": "code",
   "execution_count": 15,
   "id": "e4242597",
   "metadata": {},
   "outputs": [
    {
     "data": {
      "application/vnd.jupyter.widget-view+json": {
       "model_id": "a834c35bcce448f2b7cf0aeff414f861",
       "version_major": 2,
       "version_minor": 0
      },
      "text/plain": [
       "interactive(children=(Text(value='', description='id'), Button(description='Run Interact', style=ButtonStyle()…"
      ]
     },
     "metadata": {},
     "output_type": "display_data"
    },
    {
     "data": {
      "text/plain": [
       "<function __main__.check_id1(id)>"
      ]
     },
     "execution_count": 15,
     "metadata": {},
     "output_type": "execute_result"
    }
   ],
   "source": [
    "interact_manual(check_id1,id=\"\")"
   ]
  },
  {
   "cell_type": "markdown",
   "id": "e7bf0fdb",
   "metadata": {},
   "source": [
    "### 解法二"
   ]
  },
  {
   "cell_type": "code",
   "execution_count": 16,
   "id": "c20d2486",
   "metadata": {},
   "outputs": [],
   "source": [
    "def check_id2(id):\n",
    "    ID = np.array(dict[id[0]]+dict[id[1]]+id[2:9])\n",
    "    w = np.array([1,9,8,7,6,5,4,3,2,1])\n",
    "    chk = 10-((np.dot(ID,w))%10) #偉哉array\n",
    "    if len(id) != 10:\n",
    "        print(\"輸入正確的身分證字號，不要玩我ㄛ～\") #剔除身分證字號不等於10個數值的情況\n",
    "    \n",
    "    else:      \n",
    "        if int(id[1]) == 1 or int(id[1]) == 2:     #剔除1或2以外的數字出現在第二個字元的id\n",
    "            if chk == int(id[9]) and chk != 10:    #檢查chk是否符合檢查碼\n",
    "                print(\"正確\")\n",
    "            elif chk == 10:                        #在chk出現10的情況下檢查id是否正確\n",
    "                if int(id[9])==0:\n",
    "                    print(\"正確\")\n",
    "                else:\n",
    "                    print(\"錯誤\")\n",
    "            else:\n",
    "                print(\"錯誤\")\n",
    "        else:\n",
    "            print(\"不要亂輸數值ㄛ親愛的^^\")\n",
    "    \n",
    "    return"
   ]
  },
  {
   "cell_type": "code",
   "execution_count": 17,
   "id": "c4617a6c",
   "metadata": {},
   "outputs": [
    {
     "data": {
      "application/vnd.jupyter.widget-view+json": {
       "model_id": "3adefb2f4bc04485ae482d89261a883e",
       "version_major": 2,
       "version_minor": 0
      },
      "text/plain": [
       "interactive(children=(Text(value='', description='id'), Button(description='Run Interact', style=ButtonStyle()…"
      ]
     },
     "metadata": {},
     "output_type": "display_data"
    },
    {
     "data": {
      "text/plain": [
       "<function __main__.check_id1(id)>"
      ]
     },
     "execution_count": 17,
     "metadata": {},
     "output_type": "execute_result"
    }
   ],
   "source": [
    "interact_manual(check_id1,id=\"\")"
   ]
  },
  {
   "cell_type": "markdown",
   "id": "bd839869",
   "metadata": {},
   "source": [
    "### NOTE&PROBLEM :"
   ]
  },
  {
   "cell_type": "markdown",
   "id": "42290c5a",
   "metadata": {},
   "source": [
    "- 看到這題的時候我驚呆到ㄌ，  \n",
    "  這不是我前幾個禮拜才在自由發揮那邊編寫的題目嗎？太巧了吧！  \n",
    "  ~~可以直接複製貼上了~~  \n",
    "  好啦！既然都過了幾個禮拜ㄌ，還是應該要進步一下的！  \n",
    "  所以有添加了檢查身分證字號是10個碼以外的機制，  \n",
    "  稍微簡化了一下流程，  \n",
    "  並且用array的方式去做數值的處理，  \n",
    "  真的是比一個一個慢慢加快太多啦！  \n",
    "  不過判斷的邏輯基本上沒什麼改動。"
   ]
  },
  {
   "cell_type": "markdown",
   "id": "710ba21f",
   "metadata": {},
   "source": [
    "- 解法一是原本的解法，  \n",
    "  解法二是修改過後的解法～"
   ]
  },
  {
   "cell_type": "markdown",
   "id": "992f19cf",
   "metadata": {},
   "source": [
    "# 自由發揮：計算你的TDEE！"
   ]
  },
  {
   "cell_type": "code",
   "execution_count": 18,
   "id": "4c7c0eda",
   "metadata": {},
   "outputs": [],
   "source": [
    "s={\"生理男\":\"M\",\"生理女\":\"F\"} #建立字典for生理性別\n",
    "e = {\"久坐\":1.2, \"輕量活動\":1.375, \"中度活動量\":1.55, \"高度活動量\":1.725,\"非常高度活動量\":1.9}\n",
    "#建立字典for活動量\n",
    "def TDEE(kg,cm,year,gender,exercise):\n",
    "    if gender == \"M\":\n",
    "        BMRM = (10*float(kg))+(6.25*float(cm))-(5*float(year))+5\n",
    "        TDEE = BMRM*exercise\n",
    "        print(\"你的基礎代謝率為{}，每日總消耗熱量為{}\".format(BMRM,TDEE))\n",
    "\n",
    "    if gender == \"F\":    \n",
    "        BMRF = (10*float(kg))+(6.25*float(cm))-(5*float(year))-161\n",
    "        TDEE = BMRF*exercise \n",
    "        print(\"你的基礎代謝率為{}，每日總消耗熱量為{}\".format(BMRF,TDEE))"
   ]
  },
  {
   "cell_type": "code",
   "execution_count": 19,
   "id": "4d7e2761",
   "metadata": {},
   "outputs": [
    {
     "data": {
      "application/vnd.jupyter.widget-view+json": {
       "model_id": "fc2edcad36804190a85b23a651a59d13",
       "version_major": 2,
       "version_minor": 0
      },
      "text/plain": [
       "interactive(children=(Text(value='', description='kg'), Text(value='', description='cm'), Text(value='', descr…"
      ]
     },
     "metadata": {},
     "output_type": "display_data"
    },
    {
     "data": {
      "text/plain": [
       "<function __main__.TDEE(kg, cm, year, gender, exercise)>"
      ]
     },
     "execution_count": 19,
     "metadata": {},
     "output_type": "execute_result"
    }
   ],
   "source": [
    "interact_manual(TDEE,kg=\"\",cm=\"\",year=\"\",gender=s,exercise=e)"
   ]
  },
  {
   "cell_type": "markdown",
   "id": "a33ebecd",
   "metadata": {},
   "source": [
    "### NOTE&PROBLEM :"
   ]
  },
  {
   "cell_type": "markdown",
   "id": "0eb0b1dc",
   "metadata": {},
   "source": [
    "- 寫完這個沒什麼大問題，  \n",
    "  但是還是很常發生把不同型態的物件放在一起處理的錯誤。  "
   ]
  },
  {
   "cell_type": "markdown",
   "id": "12772c23",
   "metadata": {},
   "source": [
    "- 疫情期間真的待在家裡都會忍不住吃些好吃ㄉ，  \n",
    "  各地都聽得見變胖的慘案，  \n",
    "  於是就想說來寫一個可以計算TDEE的互動程式吧！  "
   ]
  }
 ],
 "metadata": {
  "kernelspec": {
   "display_name": "Python 3",
   "language": "python",
   "name": "python3"
  },
  "language_info": {
   "codemirror_mode": {
    "name": "ipython",
    "version": 3
   },
   "file_extension": ".py",
   "mimetype": "text/x-python",
   "name": "python",
   "nbconvert_exporter": "python",
   "pygments_lexer": "ipython3",
   "version": "3.8.8"
  }
 },
 "nbformat": 4,
 "nbformat_minor": 5
}
