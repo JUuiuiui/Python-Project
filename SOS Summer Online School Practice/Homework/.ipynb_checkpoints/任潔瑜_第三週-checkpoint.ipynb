{
 "cells": [
  {
   "cell_type": "markdown",
   "id": "5e257f3e",
   "metadata": {},
   "source": [
    "# 第一題：各班期中考加權平均"
   ]
  },
  {
   "cell_type": "code",
   "execution_count": 1,
   "id": "177d53a0",
   "metadata": {},
   "outputs": [],
   "source": [
    "%matplotlib inline\n",
    "import numpy as np\n",
    "import matplotlib.pyplot as plt"
   ]
  },
  {
   "cell_type": "code",
   "execution_count": 2,
   "id": "e9e7afea",
   "metadata": {},
   "outputs": [
    {
     "name": "stdout",
     "output_type": "stream",
     "text": [
      "A班每人各科成績：\n",
      " [[  5  96  49  56  29]\n",
      " [ 39  27  82  45  88]\n",
      " [ 57  70  37  24  64]\n",
      " [ 83  12  68   9  26]\n",
      " [ 97   7  97  71  45]\n",
      " [ 63  15  83  64  13]\n",
      " [100  58  86   4  44]\n",
      " [ 70  70  26  16  33]\n",
      " [ 85  34  28  67  32]\n",
      " [ 39  54  58  30  30]]\n",
      "B班每人各科成績：\n",
      " [[49 26  2 67 90]\n",
      " [62 93 56 79 79]\n",
      " [45 33 97  6 51]\n",
      " [53 14 37 72 45]\n",
      " [66 16 39 37 21]\n",
      " [69 77 42 96 10]\n",
      " [26  2  8  4 68]\n",
      " [42 79 58 86 41]\n",
      " [55 11 27 40 82]\n",
      " [30 44 63 99 29]]\n",
      "C班每人各科成績：\n",
      " [[ 12   6   1  66   0]\n",
      " [ 77  14  13  63 100]\n",
      " [  3 100  42  45  59]\n",
      " [ 12  98  26  52   1]\n",
      " [ 11  37  77  41  81]\n",
      " [ 92  88  43   2  60]\n",
      " [ 77   1  45  21  31]\n",
      " [ 45  23  95  87   1]\n",
      " [ 75  59  57  47  68]\n",
      " [ 19  87  74  25  88]]\n"
     ]
    }
   ],
   "source": [
    "A = np.random.randint(0,101,[10,5])\n",
    "B = np.random.randint(0,101,[10,5])\n",
    "C = np.random.randint(0,101,[10,5])\n",
    "weight = np.array([0.25, 0.25, 0.25, 0.15, 0.10])\n",
    "print('''A班每人各科成績：\n",
    "''',A)\n",
    "print('''B班每人各科成績：\n",
    "''',B)\n",
    "print('''C班每人各科成績：\n",
    "''',C)"
   ]
  },
  {
   "cell_type": "code",
   "execution_count": 3,
   "id": "a37c2b01",
   "metadata": {},
   "outputs": [
    {
     "name": "stdout",
     "output_type": "stream",
     "text": [
      "A班每人加權成績： [48.8  52.55 51.   44.7  65.4  51.15 66.   47.2  50.   45.25]\n",
      "B班每人加權成績： [38.3  72.5  49.75 41.3  37.9  62.4  16.4  61.75 37.45 52.  ]\n",
      "C班每人加權成績： [14.65 45.45 48.9  41.9  45.5  62.05 37.   53.9  61.6  57.55]\n"
     ]
    }
   ],
   "source": [
    "AA = np.dot(A,weight)#ndarray.dot和dot差別\n",
    "BB = np.dot(B,weight)\n",
    "CC = np.dot(C,weight)\n",
    "print(\"A班每人加權成績：\",AA)\n",
    "print(\"B班每人加權成績：\",BB)\n",
    "print(\"C班每人加權成績：\",CC)"
   ]
  },
  {
   "cell_type": "markdown",
   "id": "e7dbb9f8",
   "metadata": {},
   "source": [
    "### NOTE&PROBLEM :"
   ]
  },
  {
   "cell_type": "markdown",
   "id": "e48de9a1",
   "metadata": {},
   "source": [
    "- "
   ]
  },
  {
   "cell_type": "markdown",
   "id": "62627a5e",
   "metadata": {},
   "source": [
    "# 第二題：學生成績分布圖"
   ]
  },
  {
   "cell_type": "code",
   "execution_count": 4,
   "id": "6fdb5268",
   "metadata": {},
   "outputs": [
    {
     "name": "stdout",
     "output_type": "stream",
     "text": [
      "向日葵班期末成績： [41 75 34 50 87 51 32 82 96 57 61 81 31 95 50  1 34 26 12 45 50 86 40 30\n",
      " 44  7 52 32 76 46 77 37  8 32 44 56 27 93 64 26]\n"
     ]
    }
   ],
   "source": [
    "sf = np.random.randint(0,101,40)\n",
    "SF = np.array(sf)\n",
    "print(\"向日葵班期末成績：\",SF)"
   ]
  },
  {
   "cell_type": "code",
   "execution_count": 5,
   "id": "b79d7df9",
   "metadata": {
    "scrolled": true
   },
   "outputs": [
    {
     "name": "stdout",
     "output_type": "stream",
     "text": [
      "最高分： 96\n",
      "最低分： 1\n",
      "班平均： 49.2\n",
      "標準差： 24.949148282055642\n",
      "及格人數： 12\n"
     ]
    }
   ],
   "source": [
    "H = np.max(SF) #np.ndarray.argmax是什麼？#np.ndarray.max跟max的差別是什麼？\n",
    "L = np.min(SF)\n",
    "average = np.average(SF)\n",
    "std = np.std(SF)\n",
    "Pass = np.size(SF[np.where(SF>=60)])\n",
    "print(\"最高分：\",H)\n",
    "print(\"最低分：\",L)\n",
    "print(\"班平均：\",average) #numpy.average() 函式還可以計算陣列的加權平均值，numpy.mean() 則否。\n",
    "print(\"標準差：\",std)\n",
    "print(\"及格人數：\",Pass)"
   ]
  },
  {
   "cell_type": "markdown",
   "id": "ecb8c25b",
   "metadata": {
    "scrolled": true
   },
   "source": [
    "### 解法一"
   ]
  },
  {
   "cell_type": "code",
   "execution_count": 6,
   "id": "49ec6d5f",
   "metadata": {},
   "outputs": [
    {
     "name": "stdout",
     "output_type": "stream",
     "text": [
      "[3, 1, 3, 8, 6, 7, 2, 3, 4, 3]\n"
     ]
    },
    {
     "data": {
      "image/png": "[encoded data removed]",
      "text/plain": [
       "<Figure size 432x288 with 1 Axes>"
      ]
     },
     "metadata": {
      "needs_background": "light"
     },
     "output_type": "display_data"
    }
   ],
   "source": [
    "_0_10 = np.size(SF[np.where(SF<10)])\n",
    "_10_20 = np.size(SF[np.where(SF<20)]) - np.size(SF[np.where(SF<10)])\n",
    "_20_30 = np.size(SF[np.where(SF<30)]) - np.size(SF[np.where(SF<20)])\n",
    "_30_40 = np.size(SF[np.where(SF<40)]) - np.size(SF[np.where(SF<30)])\n",
    "_40_50 = np.size(SF[np.where(SF<50)]) - np.size(SF[np.where(SF<40)])\n",
    "_50_60 = np.size(SF[np.where(SF<60)]) - np.size(SF[np.where(SF<50)])\n",
    "_60_70 = np.size(SF[np.where(SF<70)]) - np.size(SF[np.where(SF<60)])\n",
    "_70_80 = np.size(SF[np.where(SF<80)]) - np.size(SF[np.where(SF<70)])\n",
    "_80_90 = np.size(SF[np.where(SF<90)]) - np.size(SF[np.where(SF<80)])\n",
    "_90_100 = np.size(SF[np.where(SF<=100)]) - np.size(SF[np.where(SF<90)])\n",
    "grade = [\"~9\",\"10~19\",\"20~29\",\"30~39\",\"40~49\",\"50~59\",\"60~69\",\"70~79\",\"80~89\",\"90~\"]\n",
    "dis_1 = [_0_10,_10_20,_20_30,_30_40,_40_50,_50_60,_60_70,_70_80,_80_90,_90_100]\n",
    "print(dis_1) #檢查用，可刪除\n",
    "plt.bar(grade,dis_1) #長條圖圖表\n",
    "plt.title('''\n",
    "          The Grade Distribution of Sunflower Class\n",
    "          ''', fontsize=20) #圖表標題\n",
    "plt.xlabel(\"Grade\") #x軸標題\n",
    "plt.ylabel(\"Number of Students\") #y軸標題\n",
    "plt.xticks(rotation='vertical') #讓x軸座標呈現垂直標示\n",
    "plt.show() #顯示繪製的圖形"
   ]
  },
  {
   "cell_type": "markdown",
   "id": "d4dd23d4",
   "metadata": {},
   "source": [
    "### 解法二"
   ]
  },
  {
   "cell_type": "code",
   "execution_count": 7,
   "id": "21582189",
   "metadata": {},
   "outputs": [
    {
     "name": "stdout",
     "output_type": "stream",
     "text": [
      "[3, 1, 3, 8, 6, 7, 2, 3, 4, 3]\n"
     ]
    },
    {
     "data": {
      "image/png": "[encoded data removed]",
      "text/plain": [
       "<Figure size 432x288 with 1 Axes>"
      ]
     },
     "metadata": {
      "needs_background": "light"
     },
     "output_type": "display_data"
    }
   ],
   "source": [
    "dis_2 = [] #先做一個空的list\n",
    "for i in range(0,100,10): #range(start, stop[, step])！stop不包含其中的計數\n",
    "    step = np.size(SF[np.where(SF<i+10)])-np.size(SF[np.where(SF<i)])\n",
    "    dis_2 += [step] #將迴圈的結果都裝入list裡面\n",
    "print(dis_2) #檢查用，可刪除\n",
    "grade = [\"~9\",\"10~19\",\"20~29\",\"30~39\",\"40~49\",\"50~59\",\"60~69\",\"70~79\",\"80~89\",\"90~\"]\n",
    "plt.bar(grade,dis_2)\n",
    "plt.title('''\n",
    "          The Grade Distribution of Sunflower Class\n",
    "          ''', fontsize=20)\n",
    "plt.xlabel(\"Grade\")\n",
    "plt.ylabel(\"Number of Student\")\n",
    "plt.xticks(rotation=45)\n",
    "plt.show()"
   ]
  },
  {
   "cell_type": "markdown",
   "id": "0931e9e5",
   "metadata": {},
   "source": [
    "### NOTE&PROBLEM :"
   ]
  },
  {
   "cell_type": "markdown",
   "id": "3f35a6b3",
   "metadata": {},
   "source": [
    "- "
   ]
  },
  {
   "cell_type": "markdown",
   "id": "3cc170a9",
   "metadata": {},
   "source": [
    "# 第三題：判斷7的倍數"
   ]
  },
  {
   "cell_type": "markdown",
   "id": "2d438308",
   "metadata": {},
   "source": [
    "### 解法一"
   ]
  },
  {
   "cell_type": "code",
   "execution_count": 8,
   "id": "62cb32f0",
   "metadata": {},
   "outputs": [],
   "source": [
    "def mult7(x):\n",
    "    x = str(x)\n",
    "    chk = [1,3,2,6,4,5]\n",
    "    list = [] #做一個空的list\n",
    "    \n",
    "    i = 0\n",
    "    while i<len(x):\n",
    "        n = i%6 #利用i的餘數來判定要取chk中的第幾個數值當作乘數\n",
    "        i += 1 \n",
    "        k = int(x[(-1)*i])*int(chk[n]) #作7的倍數規則處理\n",
    "        list += [k] #將輸入的值由左至右處理後依序放入list\n",
    "    k=sum(list)%7 #將處理過後的值相加之後取其餘數\n",
    "    \n",
    "    if k==0:\n",
    "        print(\"是7的倍數\")\n",
    "    else:\n",
    "        print(\"不是7的倍數\")\n",
    "    return"
   ]
  },
  {
   "cell_type": "code",
   "execution_count": 9,
   "id": "ece5c995",
   "metadata": {},
   "outputs": [
    {
     "name": "stdout",
     "output_type": "stream",
     "text": [
      "是7的倍數\n"
     ]
    }
   ],
   "source": [
    "mult7(63)"
   ]
  },
  {
   "cell_type": "markdown",
   "id": "25b5d7ca",
   "metadata": {},
   "source": [
    "### 解法二"
   ]
  },
  {
   "cell_type": "code",
   "execution_count": null,
   "id": "9878b269",
   "metadata": {},
   "outputs": [],
   "source": []
  },
  {
   "cell_type": "markdown",
   "id": "5aab9098",
   "metadata": {},
   "source": [
    "### NOTE&PROBLEM :"
   ]
  },
  {
   "cell_type": "markdown",
   "id": "990407de",
   "metadata": {},
   "source": [
    "- "
   ]
  },
  {
   "cell_type": "markdown",
   "id": "b537f208",
   "metadata": {},
   "source": [
    "# 挑戰題一：計算微積分期末成績"
   ]
  },
  {
   "cell_type": "code",
   "execution_count": 10,
   "id": "65bc5b60",
   "metadata": {},
   "outputs": [
    {
     "name": "stdout",
     "output_type": "stream",
     "text": [
      "[[ 27  66  62]\n",
      " [ 68  73  30]\n",
      " [ 52  87   3]\n",
      " [ 37  45  22]\n",
      " [ 57  85  67]\n",
      " [ 50  64  62]\n",
      " [  0  52  89]\n",
      " [ 74  25  61]\n",
      " [ 53  79   4]\n",
      " [ 87  61  13]\n",
      " [ 95  58  41]\n",
      " [ 23 100  25]\n",
      " [ 40  32  10]\n",
      " [ 39  13   6]\n",
      " [ 72  63  32]\n",
      " [ 68   3  20]\n",
      " [  6  68  69]\n",
      " [ 14  31  54]\n",
      " [ 41  46  16]\n",
      " [ 60  35  72]\n",
      " [ 96  97  26]\n",
      " [ 29  25  72]\n",
      " [ 61  54  90]\n",
      " [ 47  74  44]\n",
      " [ 36  93  32]\n",
      " [ 77  85  69]\n",
      " [ 94  83   9]\n",
      " [ 16  86   1]\n",
      " [ 93  23  88]\n",
      " [ 79  27  85]\n",
      " [ 41  68  33]\n",
      " [ 72  53  27]\n",
      " [ 12  19  50]\n",
      " [ 64  39  40]\n",
      " [  6  92  33]\n",
      " [ 74  90  69]\n",
      " [ 63  11  32]\n",
      " [ 83  72  48]\n",
      " [ 24  39  78]\n",
      " [ 75  99  86]\n",
      " [ 81  67  64]\n",
      " [ 28  80  36]\n",
      " [ 16   5  94]\n",
      " [ 87  85  19]\n",
      " [  0  44  33]\n",
      " [ 53  77  73]\n",
      " [ 39  46  48]\n",
      " [  4   5  15]\n",
      " [ 12  72  86]\n",
      " [ 62  13 100]]\n"
     ]
    }
   ],
   "source": [
    "a=np.random.randint(0,101,size=[50,3])\n",
    "print(a)"
   ]
  },
  {
   "cell_type": "markdown",
   "id": "099c11a9",
   "metadata": {},
   "source": [
    "### 解法一"
   ]
  },
  {
   "cell_type": "code",
   "execution_count": 11,
   "id": "d3b16939",
   "metadata": {},
   "outputs": [],
   "source": [
    "def calgrade_1(x):\n",
    "    cal_1 = np.array([0.2,0.35,0.45])#計分方式1\n",
    "    cal_2 = np.array([0,0.4,0.6])    #計分方式2\n",
    "    result = [] #裝最後的結果\n",
    "    \n",
    "    for i in range(50):#巢狀for-loop：外層loop(做整個班級的成績) \n",
    "        list_1 = [] \n",
    "        list_2 = [] #裝每個人在計分方式1、2下的「過渡」結果(只乘權重未相加)\n",
    "        for j in range(3):#巢狀for-loop：內層loop(做個人三科的成績) \n",
    "            k1 = x[i,j]*cal_1[j] #利用迴圈將每個人每一次考試的成績乘上計分方式1、2的權重\n",
    "            k2 = x[i,j]*cal_2[j] #注意！這邊還尚未相加\n",
    "            list_1.append(k1) #將各科成績按不同方式乘上權重後的物件分別放入list_1、list_2\n",
    "            list_2.append(k2) \n",
    "            #但要注意！這邊跑出來的list會包含只有放入小考成績和只有放入小考成績和期中成績的list\n",
    "            #故使用以下的條件式來篩除上面兩種型態的list\n",
    "            if len(list_1)==3 and len(list_2)==3: #確保list的型態有小考、期中、期末的成績\n",
    "                result_1=(np.array(list_1)).sum() \n",
    "                result_2=(np.array(list_2)).sum() #將list內的值相加得到計分方式1、2的結果\n",
    "                if result_1 > result_2: #比較計分方式結果的大小，並將比較大的那個加入最後結果的空list\n",
    "                    result.append(result_1)\n",
    "                else:\n",
    "                    result.append(result_2)\n",
    "    print(np.array(result)) #將result的list轉換成array型態後印出來\n",
    "    \n",
    "    return"
   ]
  },
  {
   "cell_type": "code",
   "execution_count": 12,
   "id": "1c1455c5",
   "metadata": {
    "scrolled": true
   },
   "outputs": [
    {
     "name": "stdout",
     "output_type": "stream",
     "text": [
      "[63.6  52.65 42.2  33.05 74.2  62.8  74.2  51.   40.05 44.6  57.75 55.\n",
      " 23.7  15.05 50.85 23.65 68.6  44.8  31.5  57.2  64.85 53.2  75.6  56.\n",
      " 56.4  76.2  51.9  35.   66.25 63.5  47.   45.1  37.6  44.45 56.6  77.4\n",
      " 30.85 63.4  62.4  91.2  68.45 53.6  58.4  55.7  37.4  74.6  47.2  11.\n",
      " 80.4  65.2 ]\n"
     ]
    }
   ],
   "source": [
    "calgrade_1(a)"
   ]
  },
  {
   "cell_type": "markdown",
   "id": "8d55716f",
   "metadata": {},
   "source": [
    "### 解法二"
   ]
  },
  {
   "cell_type": "code",
   "execution_count": 13,
   "id": "c83c7b50",
   "metadata": {},
   "outputs": [],
   "source": [
    "def calgrade_2(x):\n",
    "    cal_1 = np.array([0.2,0.35,0.45])\n",
    "    cal_2 = np.array([0,0.4,0.6])   \n",
    "    result = [] \n",
    "    \n",
    "    for i in range(50):\n",
    "        result_1=np.dot(cal_1,x[i,:])\n",
    "        result_2=np.dot(cal_2,x[i,:]) #就內積，多快樂。\n",
    "        if result_1 > result_2: \n",
    "            result.append(result_1)\n",
    "        else:\n",
    "            result.append(result_2)\n",
    "    print(np.array(result))\n",
    "    \n",
    "    return"
   ]
  },
  {
   "cell_type": "code",
   "execution_count": 14,
   "id": "a30a3202",
   "metadata": {},
   "outputs": [
    {
     "name": "stdout",
     "output_type": "stream",
     "text": [
      "[63.6  52.65 42.2  33.05 74.2  62.8  74.2  51.   40.05 44.6  57.75 55.\n",
      " 23.7  15.05 50.85 23.65 68.6  44.8  31.5  57.2  64.85 53.2  75.6  56.\n",
      " 56.4  76.2  51.9  35.   66.25 63.5  47.   45.1  37.6  44.45 56.6  77.4\n",
      " 30.85 63.4  62.4  91.2  68.45 53.6  58.4  55.7  37.4  74.6  47.2  11.\n",
      " 80.4  65.2 ]\n"
     ]
    }
   ],
   "source": [
    "calgrade_2(a)"
   ]
  },
  {
   "cell_type": "markdown",
   "id": "bda3f96e",
   "metadata": {},
   "source": [
    "### NOTE&PROBLEM :"
   ]
  },
  {
   "cell_type": "markdown",
   "id": "944d5573",
   "metadata": {},
   "source": [
    "- 寫完的感想，我不要再看到迴圈了（沒  \n",
    "  解法一的函式為了用雙重for，  \n",
    "  花了我整個下午和晚上的時間去寫，  \n",
    "  花一堆時間去看了巢狀for loop的詳細介紹，  \n",
    "  看見他成功的那瞬間我簡直臨表涕泣。   \n",
    "  然後解法二直接用了np.dot只花了五分鐘，就覺得，哇... "
   ]
  },
  {
   "cell_type": "markdown",
   "id": "4e7e1a41",
   "metadata": {},
   "source": [
    "- 整理了一些在寫程式中常錯的眉眉角角如下：    \n",
    "  1、if裡面設置的變數是暫時性的（區域變數？    \n",
    "  2、起始值為0的部分常常會忘記。 "
   ]
  },
  {
   "cell_type": "markdown",
   "id": "fc947681",
   "metadata": {},
   "source": [
    "- 一些小小問題：   \n",
    "  1、print(np.array(result))如果不用array的形式印出來，  \n",
    "     結果會是很奇怪的小數點。    \n",
    "  2、不太清楚說這樣用巢狀迴圈和用np.dot兩者所有的不同之處，  \n",
    "     因為產生的結果是同樣的。  \n",
    "  3、list_1 += [k1] 和 list_1.append(k1)的差別...  \n",
    "     因為在上面用list_1 += [k1]跑出來是空的...   \n",
    "     是因為這邊是在定義函數所以不能用還是怎麼樣嗎～  "
   ]
  },
  {
   "cell_type": "markdown",
   "id": "a834f916",
   "metadata": {},
   "source": [
    "# 挑戰題二："
   ]
  },
  {
   "cell_type": "code",
   "execution_count": 15,
   "id": "29829130",
   "metadata": {},
   "outputs": [
    {
     "data": {
      "text/plain": [
       "matrix([[1.07670019, 0.77955193, 0.21143431, 0.55653114, 0.27423646],\n",
       "        [1.00748839, 0.04719249, 1.71788833, 0.9843805 , 0.58605287],\n",
       "        [0.43034225, 1.79533583, 0.68056889, 1.0708562 , 1.65924438],\n",
       "        [1.91497099, 1.29287712, 0.63363659, 1.39914214, 0.16480348],\n",
       "        [1.73553093, 0.28248408, 1.73339536, 1.09628501, 0.37711792]])"
      ]
     },
     "execution_count": 15,
     "metadata": {},
     "output_type": "execute_result"
    }
   ],
   "source": [
    "A=np.mat(np.random.uniform(0,2,size=(5,5)))\n",
    "A"
   ]
  },
  {
   "cell_type": "code",
   "execution_count": 16,
   "id": "e47b0ef3",
   "metadata": {},
   "outputs": [],
   "source": [
    "def blablabla8787(x):\n",
    "    for i in range(int(np.sqrt(np.size(x)))):\n",
    "        for j in range(int(np.sqrt(np.size(x)))):\n",
    "            if x[i,j]>=1:\n",
    "                x[i,j]=1\n",
    "            else:\n",
    "                x[i,j]=0\n",
    "    print(x)\n",
    "    return"
   ]
  },
  {
   "cell_type": "code",
   "execution_count": 17,
   "id": "5991a334",
   "metadata": {},
   "outputs": [
    {
     "name": "stdout",
     "output_type": "stream",
     "text": [
      "[[1. 0. 0. 0. 0.]\n",
      " [1. 0. 1. 0. 0.]\n",
      " [0. 1. 0. 1. 1.]\n",
      " [1. 1. 0. 1. 0.]\n",
      " [1. 0. 1. 1. 0.]]\n"
     ]
    }
   ],
   "source": [
    "blablabla8787(A)"
   ]
  },
  {
   "cell_type": "markdown",
   "id": "68be4e99",
   "metadata": {},
   "source": [
    "### NOTE&PROBLEM :"
   ]
  },
  {
   "cell_type": "markdown",
   "id": "7e2ad026",
   "metadata": {},
   "source": [
    "- 這題我覺得抽取>0的矩陣比較難，  \n",
    "  一直找不到適合的語法。  "
   ]
  }
 ],
 "metadata": {
  "kernelspec": {
   "display_name": "Python 3",
   "language": "python",
   "name": "python3"
  },
  "language_info": {
   "codemirror_mode": {
    "name": "ipython",
    "version": 3
   },
   "file_extension": ".py",
   "mimetype": "text/x-python",
   "name": "python",
   "nbconvert_exporter": "python",
   "pygments_lexer": "ipython3",
   "version": "3.8.8"
  }
 },
 "nbformat": 4,
 "nbformat_minor": 5
}
