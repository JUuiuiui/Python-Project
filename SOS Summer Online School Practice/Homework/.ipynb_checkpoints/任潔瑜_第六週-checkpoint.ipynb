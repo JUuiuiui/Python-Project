{
 "cells": [
  {
   "cell_type": "code",
   "execution_count": 1,
   "id": "21d08980",
   "metadata": {},
   "outputs": [],
   "source": [
    "%matplotlib inline\n",
    "import matplotlib.pyplot as plt\n",
    "import numpy as np\n",
    "import pandas as pd\n",
    "from sklearn.linear_model import LinearRegression #導入線性回歸套件\n",
    "from sklearn.model_selection import train_test_split #導入可將資料分成測試用用訓練用的套件"
   ]
  },
  {
   "cell_type": "markdown",
   "id": "583cfb48",
   "metadata": {},
   "source": [
    "# 第一題：資料分析"
   ]
  },
  {
   "cell_type": "code",
   "execution_count": 2,
   "id": "4fae1ac3",
   "metadata": {},
   "outputs": [],
   "source": [
    "x = np.linspace(0,10,50)"
   ]
  },
  {
   "cell_type": "code",
   "execution_count": 3,
   "id": "02f33819",
   "metadata": {},
   "outputs": [],
   "source": [
    "y = np.array([100, -4.69, -0.3, 40, 5.14, 9.18, 4.02, 5.6, 12.68, 12.12,\n",
    "            70, 2.89, 11.34, 7.46, 10.06, 80, 15.83, 3.49, 9.14, 10.79,\n",
    "            19.52, 60, 15.95, 1.66, 1.91, 13.2, 22.21, 19.2, 19.37, 16.38,\n",
    "            15.96, 24.12, 26.87, 30.5, 21.01, 21.19, 12.86, 25.24, 35.26, 21.65,\n",
    "            31.28, 17.6, 29.35, 21.52, 32.91, 29.33, 28.67, 18.43, 29.84, 26.16])"
   ]
  },
  {
   "cell_type": "markdown",
   "id": "c895f12d",
   "metadata": {},
   "source": [
    "## 1.  請利用Python將這50筆數據做線性迴歸"
   ]
  },
  {
   "cell_type": "code",
   "execution_count": 4,
   "id": "408ec1cf",
   "metadata": {},
   "outputs": [
    {
     "data": {
      "image/png": "[encoded data removed]",
      "text/plain": [
       "<Figure size 432x288 with 1 Axes>"
      ]
     },
     "metadata": {
      "needs_background": "light"
     },
     "output_type": "display_data"
    }
   ],
   "source": [
    "X = x.reshape(50,1) \n",
    "#訓練模型\n",
    "regr_1 = LinearRegression()\n",
    "regr_1.fit(X,y) #用既有的資料訓練模型\n",
    "\n",
    "Y = regr_1.predict(X) #已經學習完的模型對既有的輸入資料做預測\n",
    "\n",
    "plt.scatter(x,y) #既有的輸入資料與其既有的正確輸出結果\n",
    "plt.plot(x,Y,'r') #既有的輸入資料與其預測的輸出結果（線性回歸線）\n",
    "plt.show()"
   ]
  },
  {
   "cell_type": "markdown",
   "id": "7a2c5d40",
   "metadata": {},
   "source": [
    "## 2.  計算出這條迴歸的斜率。"
   ]
  },
  {
   "cell_type": "code",
   "execution_count": 5,
   "id": "ab1cf026",
   "metadata": {
    "scrolled": true
   },
   "outputs": [
    {
     "name": "stdout",
     "output_type": "stream",
     "text": [
      "斜率：0.517040\n"
     ]
    }
   ],
   "source": [
    "slope = regr_1.coef_\n",
    "print(\"斜率：{:5f}\".format(float(slope)))"
   ]
  },
  {
   "cell_type": "markdown",
   "id": "e6e603fb",
   "metadata": {},
   "source": [
    "## 3.  試著計算(x, y)的相關係數。"
   ]
  },
  {
   "cell_type": "code",
   "execution_count": 6,
   "id": "af931d99",
   "metadata": {},
   "outputs": [
    {
     "name": "stdout",
     "output_type": "stream",
     "text": [
      "相關係數：0.077465\n"
     ]
    }
   ],
   "source": [
    "xy = np.vstack((x,y))\n",
    "df = pd.DataFrame(data = xy.T,columns=['x','y'])\n",
    "correlation = df.x.corr(df.y)\n",
    "print(\"相關係數：{:5f}\".format(correlation))"
   ]
  },
  {
   "cell_type": "markdown",
   "id": "e300c536",
   "metadata": {},
   "source": [
    "### NOTE&PROBLEM ："
   ]
  },
  {
   "cell_type": "markdown",
   "id": "ea95b84a",
   "metadata": {},
   "source": [
    "- "
   ]
  },
  {
   "cell_type": "markdown",
   "id": "c0c996d3",
   "metadata": {},
   "source": [
    "# 第二題：刪除離群值"
   ]
  },
  {
   "cell_type": "code",
   "execution_count": 7,
   "id": "a1150acd",
   "metadata": {
    "scrolled": true
   },
   "outputs": [
    {
     "data": {
      "image/png": "[encoded data removed]",
      "text/plain": [
       "<Figure size 432x288 with 1 Axes>"
      ]
     },
     "metadata": {
      "needs_background": "light"
     },
     "output_type": "display_data"
    }
   ],
   "source": [
    "x_opt = x #不想影響到x本體，故賦值x於xtem，y於ytem\n",
    "y_opt = y\n",
    "for i in range(5):\n",
    "    index = np.argmax(y_opt) #y最大值所在位置\n",
    "    x_opt = np.delete(x_opt,index)\n",
    "    y_opt = np.delete(y_opt,index)\n",
    "plt.scatter(x_opt,y_opt)\n",
    "plt.show()"
   ]
  },
  {
   "cell_type": "markdown",
   "id": "e594cdd1",
   "metadata": {},
   "source": [
    "### NOTE&PROBLEM ："
   ]
  },
  {
   "cell_type": "markdown",
   "id": "48398e08",
   "metadata": {},
   "source": [
    "- 一開始想到的方法是將x,y建立字典後刪除元素，  \n",
    "  然而中途在做迴圈的時候，  \n",
    "  一直出現 \"RuntimeError: dictionary changed size during iteration\" 的錯誤，  \n",
    "  後來上網查才發現dict字典在迴圈時不能改變字典的長度， \n",
    "  這個方法只好作罷。  "
   ]
  },
  {
   "cell_type": "markdown",
   "id": "fe9a74c8",
   "metadata": {},
   "source": [
    "# 挑戰題一：迴歸線優化"
   ]
  },
  {
   "cell_type": "code",
   "execution_count": 8,
   "id": "7c76d327",
   "metadata": {},
   "outputs": [
    {
     "data": {
      "image/png": "[encoded data removed]",
      "text/plain": [
       "<Figure size 432x288 with 1 Axes>"
      ]
     },
     "metadata": {
      "needs_background": "light"
     },
     "output_type": "display_data"
    }
   ],
   "source": [
    "X_opt = x_opt.reshape(45,1) \n",
    "regr_opt = LinearRegression()\n",
    "regr_opt.fit(X_opt,y_opt) #用優化過的數據去學習\n",
    "Y_opt = regr_opt.predict(X_opt)\n",
    "plt.scatter(x,y) #既有的輸入資料與其既有的正確輸出結果\n",
    "plt.plot(x,Y,'r') #既有的輸入資料與其預測的輸出結果（線性回歸線）\n",
    "plt.plot(x_opt,Y_opt,'y') #優化過的輸入資料與其預測的輸出結果（線性回歸線）\n",
    "plt.show()"
   ]
  },
  {
   "cell_type": "markdown",
   "id": "740b362c",
   "metadata": {},
   "source": [
    "### NOTE&PROBLEM ："
   ]
  },
  {
   "cell_type": "markdown",
   "id": "e71ef010",
   "metadata": {},
   "source": [
    "- "
   ]
  },
  {
   "cell_type": "markdown",
   "id": "7ea22bc2",
   "metadata": {},
   "source": [
    "# 挑戰題二：隨機產生訓練資料和測試資料"
   ]
  },
  {
   "cell_type": "code",
   "execution_count": 9,
   "id": "732db58b",
   "metadata": {},
   "outputs": [
    {
     "data": {
      "image/png": "[encoded data removed]",
      "text/plain": [
       "<Figure size 432x288 with 1 Axes>"
      ]
     },
     "metadata": {
      "needs_background": "light"
     },
     "output_type": "display_data"
    },
    {
     "data": {
      "image/png": "[encoded data removed]",
      "text/plain": [
       "<Figure size 432x288 with 1 Axes>"
      ]
     },
     "metadata": {
      "needs_background": "light"
     },
     "output_type": "display_data"
    }
   ],
   "source": [
    "#導入隨機劃分訓練集和測試集的套件\n",
    "from sklearn.model_selection import train_test_split \n",
    "\n",
    "# 產生資料\n",
    "a = np.linspace(0,10,100)\n",
    "b = a*1.5+1+1.5*np.random.randn(100)\n",
    "\n",
    "#產生訓練資料和測試資料\n",
    "a_train,a_test,b_train,b_test = train_test_split(a,b,test_size=0.3,random_state=87)\n",
    "#給 random_state 設置相同的值，那麼當別人重新運行你的代碼的時候就能得到完全一樣的結果，復現和你一樣的過程。\n",
    "\n",
    "A_train = a_train.reshape(70,1)\n",
    "\n",
    "regr_2 = LinearRegression()\n",
    "regr_2.fit(A_train,b_train)\n",
    "\n",
    "B_train = regr_2.predict(A_train)\n",
    "\n",
    "plt.plot(a_train,B_train,'r') #訓練資料與其預測的輸出結果（線性回歸線）\n",
    "plt.scatter(a_train,b_train) #訓練資料與其既有的正確輸出結果\n",
    "plt.show()\n",
    "\n",
    "plt.plot(a_train,B_train,'r') #訓練資料與其預測的輸出結果（線性回歸線）\n",
    "plt.scatter(a_test,b_test) #測試資料與其預測的輸出結果\n",
    "plt.show()"
   ]
  },
  {
   "cell_type": "markdown",
   "id": "93a5b3f2",
   "metadata": {},
   "source": [
    "### NOTE&PROBLEM ："
   ]
  },
  {
   "cell_type": "markdown",
   "id": "c01aeb09",
   "metadata": {},
   "source": [
    "- "
   ]
  },
  {
   "cell_type": "markdown",
   "id": "36b776bf",
   "metadata": {},
   "source": [
    "# 自由發揮：歐肯定律在台灣"
   ]
  },
  {
   "cell_type": "markdown",
   "id": "efb50a07",
   "metadata": {},
   "source": [
    "2020年新冠肺炎疫情全球大爆發，在經歷大蕭條以來經濟最黑暗的一年後，  \n",
    "隨著疫苗的大規模施打，全球經濟也正在邁向復甦，  \n",
    "而受大眾關心的失業率是否會隨著經濟的成長也成為人們關心的問題。  \n",
    "   \n",
    "亞瑟 · 歐肯在1962年提出了歐肯法則，  \n",
    "其理論解釋為：「實際就業水平依賴於實際總產出，短期社會總產出越多，其所要求的勞動力投入也就越多，自然會帶來更低的失業率」，  \n",
    "然而這是由數據歸納而出的經驗規律，實際上由於經濟形態的不同，各個經濟體在實質經濟成長率與失業率變動的關係也會有些微的差異，  \n",
    "那台灣的數據是否符合歐肯法則呢？又會是以什麼樣的形式呈現？因此，在這邊想針對「台灣實質經濟成長率與失業率變動的關係」來作簡單迴歸分析。  \n",
    "資料來源為中華民國統計資訊網。  \n",
    "由於樣本資料的不足（只有30個），所以這邊不再分成測試資料與訓練資料了。（資料真的是很珍貴呀～"
   ]
  },
  {
   "cell_type": "code",
   "execution_count": 10,
   "id": "bd19bf1f",
   "metadata": {},
   "outputs": [
    {
     "data": {
      "text/html": [
       "<div>\n",
       "<style scoped>\n",
       "    .dataframe tbody tr th:only-of-type {\n",
       "        vertical-align: middle;\n",
       "    }\n",
       "\n",
       "    .dataframe tbody tr th {\n",
       "        vertical-align: top;\n",
       "    }\n",
       "\n",
       "    .dataframe thead th {\n",
       "        text-align: right;\n",
       "    }\n",
       "</style>\n",
       "<table border=\"1\" class=\"dataframe\">\n",
       "  <thead>\n",
       "    <tr style=\"text-align: right;\">\n",
       "      <th></th>\n",
       "      <th>%Change GDP</th>\n",
       "      <th>Change Unemployment Rate</th>\n",
       "    </tr>\n",
       "    <tr>\n",
       "      <th>year</th>\n",
       "      <th></th>\n",
       "      <th></th>\n",
       "    </tr>\n",
       "  </thead>\n",
       "  <tbody>\n",
       "    <tr>\n",
       "      <th>1991</th>\n",
       "      <td>8.37</td>\n",
       "      <td>-0.16</td>\n",
       "    </tr>\n",
       "    <tr>\n",
       "      <th>1992</th>\n",
       "      <td>8.31</td>\n",
       "      <td>0.00</td>\n",
       "    </tr>\n",
       "    <tr>\n",
       "      <th>1993</th>\n",
       "      <td>6.81</td>\n",
       "      <td>-0.06</td>\n",
       "    </tr>\n",
       "    <tr>\n",
       "      <th>1994</th>\n",
       "      <td>7.50</td>\n",
       "      <td>0.11</td>\n",
       "    </tr>\n",
       "    <tr>\n",
       "      <th>1995</th>\n",
       "      <td>6.50</td>\n",
       "      <td>0.23</td>\n",
       "    </tr>\n",
       "  </tbody>\n",
       "</table>\n",
       "</div>"
      ],
      "text/plain": [
       "      %Change GDP  Change Unemployment Rate\n",
       "year                                       \n",
       "1991         8.37                     -0.16\n",
       "1992         8.31                      0.00\n",
       "1993         6.81                     -0.06\n",
       "1994         7.50                      0.11\n",
       "1995         6.50                      0.23"
      ]
     },
     "execution_count": 10,
     "metadata": {},
     "output_type": "execute_result"
    }
   ],
   "source": [
    "df_okun = pd.read_csv(\"Okun's law data.csv\",index_col=\"year\")\n",
    "df_okun.head()"
   ]
  },
  {
   "cell_type": "code",
   "execution_count": 11,
   "id": "6dbde7d8",
   "metadata": {},
   "outputs": [
    {
     "data": {
      "image/png": "[encoded data removed]",
      "text/plain": [
       "<Figure size 432x288 with 1 Axes>"
      ]
     },
     "metadata": {
      "needs_background": "light"
     },
     "output_type": "display_data"
    }
   ],
   "source": [
    "# 做回歸模型的機器\n",
    "gdp = np.array(df_okun['%Change GDP'])\n",
    "une = np.array(df_okun['Change Unemployment Rate'])\n",
    "GDP = gdp.reshape(30,1)\n",
    "\n",
    "regr_okun = LinearRegression()\n",
    "regr_okun.fit(GDP,une)\n",
    "\n",
    "UNE = regr_okun.predict(GDP)\n",
    "\n",
    "plt.plot(gdp,UNE,'r') #與其預測的輸出結果（線性回歸線）\n",
    "plt.scatter(gdp,une) \n",
    "plt.title('''\n",
    "          Okun's Law in Taiwan\n",
    "          ''', fontsize=14) #圖表標題\n",
    "plt.xlabel(\"%Change GDP\") #x軸標題\n",
    "plt.ylabel(\"Change Unemployment Rate\") #y軸標題\n",
    "plt.show()"
   ]
  },
  {
   "cell_type": "code",
   "execution_count": 12,
   "id": "5d0ee399",
   "metadata": {},
   "outputs": [
    {
     "name": "stdout",
     "output_type": "stream",
     "text": [
      "斜率：-0.097341\n",
      "截距：0.522252\n"
     ]
    }
   ],
   "source": [
    "# 求出回歸線的斜率與截距\n",
    "slope_okun = regr_okun.coef_\n",
    "print(\"斜率：{:6f}\".format(float(slope_okun)))\n",
    "intercept_okun = regr_okun.intercept_\n",
    "print(\"截距：{:6f}\".format(float(intercept_okun)))"
   ]
  },
  {
   "cell_type": "code",
   "execution_count": 13,
   "id": "4c0ab9e0",
   "metadata": {},
   "outputs": [
    {
     "data": {
      "application/vnd.jupyter.widget-view+json": {
       "model_id": "30dd78a3374a4acd9c6e564e3e28832a",
       "version_major": 2,
       "version_minor": 0
      },
      "text/plain": [
       "interactive(children=(Text(value='8.37', description='gdp'), Button(description='Run Interact', style=ButtonSt…"
      ]
     },
     "metadata": {},
     "output_type": "display_data"
    },
    {
     "data": {
      "text/plain": [
       "<function __main__.okun(gdp)>"
      ]
     },
     "execution_count": 13,
     "metadata": {},
     "output_type": "execute_result"
    }
   ],
   "source": [
    "# 用互動程式預測台灣今年的失業率變動\n",
    "from ipywidgets import interact\n",
    "from ipywidgets import interact_manual\n",
    "def okun(gdp):\n",
    "    une = 0.522252 - 0.097341*float(gdp)\n",
    "    print(\"預測的失業率變動為：{:6f}\".format(une))\n",
    "interact_manual(okun,gdp='8.37')"
   ]
  },
  {
   "cell_type": "markdown",
   "id": "286a8abf",
   "metadata": {},
   "source": [
    "### NOTE&PROBLEM ："
   ]
  },
  {
   "cell_type": "markdown",
   "id": "d1b43f09",
   "metadata": {},
   "source": [
    "- 由於在這邊我設定gdp變動為自變數；失業率變動為依變數，  \n",
    "  所以這邊的模型是由gdp變動來預測失業率變動。"
   ]
  },
  {
   "cell_type": "markdown",
   "id": "cfa952cf",
   "metadata": {},
   "source": [
    "- 國際貨幣基金預測台灣今年的經濟成長率能達4.7%，  \n",
    "  失業率則為3.8％，與去年的3.85％相比下降了0.05％，  \n",
    "  不過這是今年四月的新聞了。  \n",
    "  但如果只單用這個數據下去作回歸預測，  \n",
    "  誤差為＋0.01%  "
   ]
  },
  {
   "cell_type": "markdown",
   "id": "6a3d2a2b",
   "metadata": {},
   "source": [
    " "
   ]
  },
  {
   "cell_type": "markdown",
   "id": "ae01156f",
   "metadata": {},
   "source": [
    "# 導入玩具資料並作成DataFrame"
   ]
  },
  {
   "cell_type": "code",
   "execution_count": 14,
   "id": "806c61b4",
   "metadata": {},
   "outputs": [],
   "source": [
    "from sklearn.datasets import load_diabetes # 導入糖尿病數據"
   ]
  },
  {
   "cell_type": "code",
   "execution_count": 15,
   "id": "71bc6c6d",
   "metadata": {},
   "outputs": [
    {
     "name": "stdout",
     "output_type": "stream",
     "text": [
      "1、 dict_keys(['data', 'target', 'frame', 'DESCR', 'feature_names', 'data_filename', 'target_filename'])\n",
      "2、 (442, 10) (442,)\n",
      "3、 ['age', 'sex', 'bmi', 'bp', 's1', 's2', 's3', 's4', 's5', 's6']\n",
      "4、 .. _diabetes_dataset:\n",
      "\n",
      "Diabetes dataset\n",
      "----------------\n",
      "\n",
      "Ten baseline variables, age, sex, body mass index, average blood\n",
      "pressure, and six blood serum measurements were obtained for each of n =\n",
      "442 diabetes patients, as well as the response of interest, a\n",
      "quantitative measure of disease progression one year after baseline.\n",
      "\n",
      "**Data Set Characteristics:**\n",
      "\n",
      "  :Number of Instances: 442\n",
      "\n",
      "  :Number of Attributes: First 10 columns are numeric predictive values\n",
      "\n",
      "  :Target: Column 11 is a quantitative measure of disease progression one year after baseline\n",
      "\n",
      "  :Attribute Information:\n",
      "      - age     age in years\n",
      "      - sex\n",
      "      - bmi     body mass index\n",
      "      - bp      average blood pressure\n",
      "      - s1      tc, T-Cells (a type of white blood cells)\n",
      "      - s2      ldl, low-density lipoproteins\n",
      "      - s3      hdl, high-density lipoproteins\n",
      "      - s4      tch, thyroid stimulating hormone\n",
      "      - s5      ltg, lamotrigine\n",
      "      - s6      glu, blood sugar level\n",
      "\n",
      "Note: Each of these 10 feature variables have been mean centered and scaled by the standard deviation times `n_samples` (i.e. the sum of squares of each column totals 1).\n",
      "\n",
      "Source URL:\n",
      "https://www4.stat.ncsu.edu/~boos/var.select/diabetes.html\n",
      "\n",
      "For more information see:\n",
      "Bradley Efron, Trevor Hastie, Iain Johnstone and Robert Tibshirani (2004) \"Least Angle Regression,\" Annals of Statistics (with discussion), 407-499.\n",
      "(https://web.stanford.edu/~hastie/Papers/LARS/LeastAngle_2002.pdf)\n"
     ]
    }
   ],
   "source": [
    "diabetes = load_diabetes()\n",
    "print(\"1、\",diabetes.keys())  #查看\n",
    "print(\"2、\", diabetes.data.shape, diabetes.target.shape) #查看數據形狀\n",
    "print(\"3、\",diabetes.feature_names) #查看資料分類（或屬性）\n",
    "print(\"4、\",diabetes.DESCR)  #描述數據集"
   ]
  },
  {
   "cell_type": "markdown",
   "id": "18f5b859",
   "metadata": {},
   "source": [
    "## 從上述結果得到的訊息："
   ]
  },
  {
   "cell_type": "markdown",
   "id": "d0bce359",
   "metadata": {},
   "source": [
    "- 這份資料有442個的樣本，  \n",
    "  樣本特徵包含：  \n",
    "  Age(年齡)、性別(Sex)、Body mass index(體質指數)、  \n",
    "  Average Blood Pressure(平均血壓)、  \n",
    "  S1~S6一年後疾病級數指標，（醫學專有名詞我不太懂哈哈）      \n",
    "  Target為一年後患疾病的定量指標。  "
   ]
  },
  {
   "cell_type": "code",
   "execution_count": 16,
   "id": "a5f796e7",
   "metadata": {},
   "outputs": [],
   "source": [
    "diabetes_df = pd.DataFrame(data = diabetes.data,columns=diabetes.feature_names) #注意這邊記得打.data！"
   ]
  },
  {
   "cell_type": "code",
   "execution_count": 17,
   "id": "b89eb95a",
   "metadata": {},
   "outputs": [
    {
     "data": {
      "text/html": [
       "<div>\n",
       "<style scoped>\n",
       "    .dataframe tbody tr th:only-of-type {\n",
       "        vertical-align: middle;\n",
       "    }\n",
       "\n",
       "    .dataframe tbody tr th {\n",
       "        vertical-align: top;\n",
       "    }\n",
       "\n",
       "    .dataframe thead th {\n",
       "        text-align: right;\n",
       "    }\n",
       "</style>\n",
       "<table border=\"1\" class=\"dataframe\">\n",
       "  <thead>\n",
       "    <tr style=\"text-align: right;\">\n",
       "      <th></th>\n",
       "      <th>age</th>\n",
       "      <th>sex</th>\n",
       "      <th>bmi</th>\n",
       "      <th>bp</th>\n",
       "      <th>s1</th>\n",
       "      <th>s2</th>\n",
       "      <th>s3</th>\n",
       "      <th>s4</th>\n",
       "      <th>s5</th>\n",
       "      <th>s6</th>\n",
       "    </tr>\n",
       "  </thead>\n",
       "  <tbody>\n",
       "    <tr>\n",
       "      <th>0</th>\n",
       "      <td>0.038076</td>\n",
       "      <td>0.050680</td>\n",
       "      <td>0.061696</td>\n",
       "      <td>0.021872</td>\n",
       "      <td>-0.044223</td>\n",
       "      <td>-0.034821</td>\n",
       "      <td>-0.043401</td>\n",
       "      <td>-0.002592</td>\n",
       "      <td>0.019908</td>\n",
       "      <td>-0.017646</td>\n",
       "    </tr>\n",
       "    <tr>\n",
       "      <th>1</th>\n",
       "      <td>-0.001882</td>\n",
       "      <td>-0.044642</td>\n",
       "      <td>-0.051474</td>\n",
       "      <td>-0.026328</td>\n",
       "      <td>-0.008449</td>\n",
       "      <td>-0.019163</td>\n",
       "      <td>0.074412</td>\n",
       "      <td>-0.039493</td>\n",
       "      <td>-0.068330</td>\n",
       "      <td>-0.092204</td>\n",
       "    </tr>\n",
       "    <tr>\n",
       "      <th>2</th>\n",
       "      <td>0.085299</td>\n",
       "      <td>0.050680</td>\n",
       "      <td>0.044451</td>\n",
       "      <td>-0.005671</td>\n",
       "      <td>-0.045599</td>\n",
       "      <td>-0.034194</td>\n",
       "      <td>-0.032356</td>\n",
       "      <td>-0.002592</td>\n",
       "      <td>0.002864</td>\n",
       "      <td>-0.025930</td>\n",
       "    </tr>\n",
       "    <tr>\n",
       "      <th>3</th>\n",
       "      <td>-0.089063</td>\n",
       "      <td>-0.044642</td>\n",
       "      <td>-0.011595</td>\n",
       "      <td>-0.036656</td>\n",
       "      <td>0.012191</td>\n",
       "      <td>0.024991</td>\n",
       "      <td>-0.036038</td>\n",
       "      <td>0.034309</td>\n",
       "      <td>0.022692</td>\n",
       "      <td>-0.009362</td>\n",
       "    </tr>\n",
       "    <tr>\n",
       "      <th>4</th>\n",
       "      <td>0.005383</td>\n",
       "      <td>-0.044642</td>\n",
       "      <td>-0.036385</td>\n",
       "      <td>0.021872</td>\n",
       "      <td>0.003935</td>\n",
       "      <td>0.015596</td>\n",
       "      <td>0.008142</td>\n",
       "      <td>-0.002592</td>\n",
       "      <td>-0.031991</td>\n",
       "      <td>-0.046641</td>\n",
       "    </tr>\n",
       "    <tr>\n",
       "      <th>...</th>\n",
       "      <td>...</td>\n",
       "      <td>...</td>\n",
       "      <td>...</td>\n",
       "      <td>...</td>\n",
       "      <td>...</td>\n",
       "      <td>...</td>\n",
       "      <td>...</td>\n",
       "      <td>...</td>\n",
       "      <td>...</td>\n",
       "      <td>...</td>\n",
       "    </tr>\n",
       "    <tr>\n",
       "      <th>437</th>\n",
       "      <td>0.041708</td>\n",
       "      <td>0.050680</td>\n",
       "      <td>0.019662</td>\n",
       "      <td>0.059744</td>\n",
       "      <td>-0.005697</td>\n",
       "      <td>-0.002566</td>\n",
       "      <td>-0.028674</td>\n",
       "      <td>-0.002592</td>\n",
       "      <td>0.031193</td>\n",
       "      <td>0.007207</td>\n",
       "    </tr>\n",
       "    <tr>\n",
       "      <th>438</th>\n",
       "      <td>-0.005515</td>\n",
       "      <td>0.050680</td>\n",
       "      <td>-0.015906</td>\n",
       "      <td>-0.067642</td>\n",
       "      <td>0.049341</td>\n",
       "      <td>0.079165</td>\n",
       "      <td>-0.028674</td>\n",
       "      <td>0.034309</td>\n",
       "      <td>-0.018118</td>\n",
       "      <td>0.044485</td>\n",
       "    </tr>\n",
       "    <tr>\n",
       "      <th>439</th>\n",
       "      <td>0.041708</td>\n",
       "      <td>0.050680</td>\n",
       "      <td>-0.015906</td>\n",
       "      <td>0.017282</td>\n",
       "      <td>-0.037344</td>\n",
       "      <td>-0.013840</td>\n",
       "      <td>-0.024993</td>\n",
       "      <td>-0.011080</td>\n",
       "      <td>-0.046879</td>\n",
       "      <td>0.015491</td>\n",
       "    </tr>\n",
       "    <tr>\n",
       "      <th>440</th>\n",
       "      <td>-0.045472</td>\n",
       "      <td>-0.044642</td>\n",
       "      <td>0.039062</td>\n",
       "      <td>0.001215</td>\n",
       "      <td>0.016318</td>\n",
       "      <td>0.015283</td>\n",
       "      <td>-0.028674</td>\n",
       "      <td>0.026560</td>\n",
       "      <td>0.044528</td>\n",
       "      <td>-0.025930</td>\n",
       "    </tr>\n",
       "    <tr>\n",
       "      <th>441</th>\n",
       "      <td>-0.045472</td>\n",
       "      <td>-0.044642</td>\n",
       "      <td>-0.073030</td>\n",
       "      <td>-0.081414</td>\n",
       "      <td>0.083740</td>\n",
       "      <td>0.027809</td>\n",
       "      <td>0.173816</td>\n",
       "      <td>-0.039493</td>\n",
       "      <td>-0.004220</td>\n",
       "      <td>0.003064</td>\n",
       "    </tr>\n",
       "  </tbody>\n",
       "</table>\n",
       "<p>442 rows × 10 columns</p>\n",
       "</div>"
      ],
      "text/plain": [
       "          age       sex       bmi        bp        s1        s2        s3  \\\n",
       "0    0.038076  0.050680  0.061696  0.021872 -0.044223 -0.034821 -0.043401   \n",
       "1   -0.001882 -0.044642 -0.051474 -0.026328 -0.008449 -0.019163  0.074412   \n",
       "2    0.085299  0.050680  0.044451 -0.005671 -0.045599 -0.034194 -0.032356   \n",
       "3   -0.089063 -0.044642 -0.011595 -0.036656  0.012191  0.024991 -0.036038   \n",
       "4    0.005383 -0.044642 -0.036385  0.021872  0.003935  0.015596  0.008142   \n",
       "..        ...       ...       ...       ...       ...       ...       ...   \n",
       "437  0.041708  0.050680  0.019662  0.059744 -0.005697 -0.002566 -0.028674   \n",
       "438 -0.005515  0.050680 -0.015906 -0.067642  0.049341  0.079165 -0.028674   \n",
       "439  0.041708  0.050680 -0.015906  0.017282 -0.037344 -0.013840 -0.024993   \n",
       "440 -0.045472 -0.044642  0.039062  0.001215  0.016318  0.015283 -0.028674   \n",
       "441 -0.045472 -0.044642 -0.073030 -0.081414  0.083740  0.027809  0.173816   \n",
       "\n",
       "           s4        s5        s6  \n",
       "0   -0.002592  0.019908 -0.017646  \n",
       "1   -0.039493 -0.068330 -0.092204  \n",
       "2   -0.002592  0.002864 -0.025930  \n",
       "3    0.034309  0.022692 -0.009362  \n",
       "4   -0.002592 -0.031991 -0.046641  \n",
       "..        ...       ...       ...  \n",
       "437 -0.002592  0.031193  0.007207  \n",
       "438  0.034309 -0.018118  0.044485  \n",
       "439 -0.011080 -0.046879  0.015491  \n",
       "440  0.026560  0.044528 -0.025930  \n",
       "441 -0.039493 -0.004220  0.003064  \n",
       "\n",
       "[442 rows x 10 columns]"
      ]
     },
     "execution_count": 17,
     "metadata": {},
     "output_type": "execute_result"
    }
   ],
   "source": [
    "diabetes_df"
   ]
  },
  {
   "cell_type": "markdown",
   "id": "891c20ba",
   "metadata": {},
   "source": [
    "### NOTE&PROBLEM ："
   ]
  },
  {
   "cell_type": "markdown",
   "id": "ddeb4eac",
   "metadata": {},
   "source": [
    "沒技術含量的一個小區塊，  \n",
    "只是想看看玩具資料長怎樣哈哈～  \n",
    "這週課程對我來說有點複雜，需要時間消化一下。w。  "
   ]
  }
 ],
 "metadata": {
  "kernelspec": {
   "display_name": "Python 3",
   "language": "python",
   "name": "python3"
  },
  "language_info": {
   "codemirror_mode": {
    "name": "ipython",
    "version": 3
   },
   "file_extension": ".py",
   "mimetype": "text/x-python",
   "name": "python",
   "nbconvert_exporter": "python",
   "pygments_lexer": "ipython3",
   "version": "3.8.8"
  }
 },
 "nbformat": 4,
 "nbformat_minor": 5
}
