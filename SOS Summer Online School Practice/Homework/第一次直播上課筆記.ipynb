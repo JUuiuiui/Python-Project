{
 "cells": [
  {
   "cell_type": "markdown",
   "id": "4ded5a92",
   "metadata": {},
   "source": [
    "# 成為Python數據達人的第一門課"
   ]
  },
  {
   "cell_type": "markdown",
   "id": "a264ce03",
   "metadata": {},
   "source": [
    "## 第一次直播上課筆記"
   ]
  },
  {
   "cell_type": "markdown",
   "id": "c0a9ad54",
   "metadata": {},
   "source": [
    "### 1、每週一個程式作業 70%"
   ]
  },
  {
   "cell_type": "markdown",
   "id": "73648b1d",
   "metadata": {},
   "source": [
    "一定要在繳交期限以前繳交，否則零分。"
   ]
  },
  {
   "cell_type": "markdown",
   "id": "5c5b4f2d",
   "metadata": {},
   "source": [
    "!!在程式碼後面做#或者Markdown，方便以後複習。"
   ]
  },
  {
   "cell_type": "markdown",
   "id": "a2e1d177",
   "metadata": {},
   "source": [
    "### 2、期中考期末考 30%"
   ]
  },
  {
   "cell_type": "markdown",
   "id": "51192485",
   "metadata": {},
   "source": [
    "可以無限次作答，題目有疑慮可以找教授或助教討論～"
   ]
  },
  {
   "cell_type": "markdown",
   "id": "04df9587",
   "metadata": {},
   "source": [
    "### 3、Quiz不計分"
   ]
  },
  {
   "cell_type": "markdown",
   "id": "61182664",
   "metadata": {},
   "source": [
    "不用害怕失敗"
   ]
  },
  {
   "cell_type": "markdown",
   "id": "e9a4c530",
   "metadata": {},
   "source": [
    "### 課本：少年Py的大冒險"
   ]
  },
  {
   "cell_type": "markdown",
   "id": "a75581c7",
   "metadata": {},
   "source": [
    "各位同學們好：\n",
    "\n",
    "跟同學們說明這堂課的幾個注意事項~\n",
    "\n",
    "1.\n",
    "修習這堂課同學們都可以自己超前進度去自主學習，作業都可以提早繳交，可以提早且自由地規劃自己的進度。\n",
    "2.\n",
    "請同學們一定要注意繳交時間(作業、期中考、期末考)，可以提早上傳作業跟完成考試，但一定要避免未注意繳交期限而導致的遲交或缺考。如果有遲交或缺考的情形，是完全沒有補救措施的，再次提醒同學們一定要注意繳交的期限，因為沒有補救措施、沒有補救措施、沒有補救措施！\n",
    "3. \n",
    "提醒同學第一次作業的繳交期限是7/11晚上23:59分，第二次是7/18晚上23:59分，請大家一定要在期限內繳交喔！另外，因為第一次作業繳交的期限比較近，如果各位同學有因為加退選的關係而來不及繳交，請務必事先讓助教知道以維護您的權益！每周都會有一個作業截止繳交，請同學們務必留意繳交作業的期限，絕對不要忘記。\n",
    "4.\n",
    "每周作業點進去都會有題目跟對應的題目說明，另外，老師和助教們都非常歡迎且鼓勵各位同學，在學習完每周的課程內容後，可以發揮創意自行創造一些跟所學的領域或與生活相關的題目當作作業，但注意內容一定要跟那一周的內容相關喔！\n",
    "5.\n",
    "作業完成後請將作業存檔並截圖一併繳交在作業區內，另外想請各位同學配合在撰寫作業程式碼的時候，多多利用markdown或是#字號的形式留下備註，一來日後您回頭想複習時會節省很多時間，二來也方便助教批改作業。\n",
    "\n",
    "\n",
    "祝各位學習愉快，身體健康，讓我們一起快樂地寫程式吧！\n",
    "\n",
    "如果有任何問題都可以在疑難雜症區留言詢問助教或老師~謝謝各位同學！"
   ]
  },
  {
   "cell_type": "code",
   "execution_count": null,
   "id": "c1afb5e5",
   "metadata": {},
   "outputs": [],
   "source": [
    "x=input(\"身高：\")\n",
    "y=input(\"體重：\")\n",
    "z=x\n",
    "z"
   ]
  },
  {
   "cell_type": "code",
   "execution_count": null,
   "id": "66a9ea82",
   "metadata": {},
   "outputs": [],
   "source": []
  }
 ],
 "metadata": {
  "kernelspec": {
   "display_name": "Python 3",
   "language": "python",
   "name": "python3"
  },
  "language_info": {
   "codemirror_mode": {
    "name": "ipython",
    "version": 3
   },
   "file_extension": ".py",
   "mimetype": "text/x-python",
   "name": "python",
   "nbconvert_exporter": "python",
   "pygments_lexer": "ipython3",
   "version": "3.8.8"
  }
 },
 "nbformat": 4,
 "nbformat_minor": 5
}
