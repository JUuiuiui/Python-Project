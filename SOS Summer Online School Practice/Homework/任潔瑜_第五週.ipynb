{
 "cells": [
  {
   "cell_type": "code",
   "execution_count": 1,
   "id": "c220824b",
   "metadata": {},
   "outputs": [],
   "source": [
    "%matplotlib inline\n",
    "\n",
    "import numpy as np\n",
    "import matplotlib.pyplot as plt\n",
    "import pandas as pd"
   ]
  },
  {
   "cell_type": "markdown",
   "id": "034fd9e6",
   "metadata": {},
   "source": [
    "# 第一題：算閏年"
   ]
  },
  {
   "cell_type": "code",
   "execution_count": 2,
   "id": "c93cbc52",
   "metadata": {},
   "outputs": [],
   "source": [
    "def year(x):\n",
    "    if x%4 == 0:\n",
    "        if x%100 == 0 and x%400 != 0:\n",
    "            print(\"不是閏年\")\n",
    "        else:\n",
    "            print(\"是閏年\")\n",
    "    else:\n",
    "        print(\"不是閏年\")"
   ]
  },
  {
   "cell_type": "code",
   "execution_count": 3,
   "id": "90e33c7a",
   "metadata": {},
   "outputs": [
    {
     "name": "stdout",
     "output_type": "stream",
     "text": [
      "是閏年\n"
     ]
    }
   ],
   "source": [
    "year(2000)"
   ]
  },
  {
   "cell_type": "code",
   "execution_count": 4,
   "id": "04c7f92d",
   "metadata": {},
   "outputs": [
    {
     "name": "stdout",
     "output_type": "stream",
     "text": [
      "不是閏年\n"
     ]
    }
   ],
   "source": [
    "year(1900)"
   ]
  },
  {
   "cell_type": "markdown",
   "id": "f9a58cb0",
   "metadata": {},
   "source": [
    "### NOTE&PROBLEM ："
   ]
  },
  {
   "cell_type": "markdown",
   "id": "98064643",
   "metadata": {},
   "source": [
    "# 第二題：矩陣加法、乘法"
   ]
  },
  {
   "cell_type": "code",
   "execution_count": 5,
   "id": "0a6dd8bc",
   "metadata": {},
   "outputs": [],
   "source": [
    "mat_1 = np.matrix(np.random.randint(0,100,size=(5,5)))\n",
    "mat_2 = np.matrix(np.random.randint(0,100,size=(5,5)))"
   ]
  },
  {
   "cell_type": "code",
   "execution_count": 6,
   "id": "294567b4",
   "metadata": {},
   "outputs": [
    {
     "data": {
      "text/plain": [
       "matrix([[ 6, 67, 35,  1, 35],\n",
       "        [ 1, 31, 13, 39, 27],\n",
       "        [98,  4, 48, 23, 59],\n",
       "        [63, 57, 14, 88, 49],\n",
       "        [24, 31, 64, 70, 80]])"
      ]
     },
     "execution_count": 6,
     "metadata": {},
     "output_type": "execute_result"
    }
   ],
   "source": [
    "mat_1"
   ]
  },
  {
   "cell_type": "code",
   "execution_count": 7,
   "id": "5345f3d3",
   "metadata": {
    "scrolled": true
   },
   "outputs": [
    {
     "data": {
      "text/plain": [
       "matrix([[99, 37, 35, 43,  3],\n",
       "        [66, 77, 63, 55, 44],\n",
       "        [ 9, 18, 22, 29, 25],\n",
       "        [ 0, 80, 30, 14, 93],\n",
       "        [95, 12, 90, 82,  9]])"
      ]
     },
     "execution_count": 7,
     "metadata": {},
     "output_type": "execute_result"
    }
   ],
   "source": [
    "mat_2"
   ]
  },
  {
   "cell_type": "markdown",
   "id": "1bd5082e",
   "metadata": {},
   "source": [
    "## 矩陣加法"
   ]
  },
  {
   "cell_type": "code",
   "execution_count": 8,
   "id": "4ef7cc36",
   "metadata": {},
   "outputs": [],
   "source": [
    "def matplus(x,y):\n",
    "    return x+y"
   ]
  },
  {
   "cell_type": "code",
   "execution_count": 9,
   "id": "8f93cf28",
   "metadata": {},
   "outputs": [
    {
     "data": {
      "text/plain": [
       "matrix([[105, 104,  70,  44,  38],\n",
       "        [ 67, 108,  76,  94,  71],\n",
       "        [107,  22,  70,  52,  84],\n",
       "        [ 63, 137,  44, 102, 142],\n",
       "        [119,  43, 154, 152,  89]])"
      ]
     },
     "execution_count": 9,
     "metadata": {},
     "output_type": "execute_result"
    }
   ],
   "source": [
    "matplus(mat_1,mat_2)"
   ]
  },
  {
   "cell_type": "markdown",
   "id": "199bc38a",
   "metadata": {},
   "source": [
    "## 矩陣乘法"
   ]
  },
  {
   "cell_type": "code",
   "execution_count": 10,
   "id": "7180a0cc",
   "metadata": {},
   "outputs": [],
   "source": [
    "def matmult(x,y):\n",
    "    return np.dot(x,y)"
   ]
  },
  {
   "cell_type": "code",
   "execution_count": 11,
   "id": "6a0bb063",
   "metadata": {},
   "outputs": [
    {
     "data": {
      "text/plain": [
       "matrix([[ 8656,  6511,  8381,  7842,  4249],\n",
       "        [ 4827,  6102,  5874,  4885,  5562],\n",
       "        [16003,  7346, 10738, 10986,  4340],\n",
       "        [14780, 14600, 13154, 11500, 11672],\n",
       "        [12598, 10987, 13501, 12133, 10266]])"
      ]
     },
     "execution_count": 11,
     "metadata": {},
     "output_type": "execute_result"
    }
   ],
   "source": [
    "matmult(mat_1,mat_2)"
   ]
  },
  {
   "cell_type": "markdown",
   "id": "ca7e2e0a",
   "metadata": {},
   "source": [
    "### NOTE&PROBLEM ："
   ]
  },
  {
   "cell_type": "markdown",
   "id": "c8eca577",
   "metadata": {},
   "source": [
    "# 第三題：錄取分數表格"
   ]
  },
  {
   "cell_type": "code",
   "execution_count": 12,
   "id": "a38b47d2",
   "metadata": {},
   "outputs": [],
   "source": [
    "sub =  [\"國文\", \"英文\", \"數甲\", \"數乙\", \"物理\", \"化學\", \"生物\", \"歷史\", \"地理\", \"公民\"]\n",
    "gra = np.array([86.5, 79.4, 88.2, 96.5, 86.3, 76.8, 96.1, 78.5, 82.4, 88.6])\n",
    "wei = {\n",
    "\"土語系\": [2, 2, 0, 1, 0, 0, 0, 1, 1, 0],\n",
    "\"財政系\": [1, 1.5, 0, 1.5, 0, 0, 0, 0, 0, 0],\n",
    "\"金融系\": [1, 1.5, 0, 2, 0, 0, 0, 0, 0, 0],\n",
    "\"國貿系\": [1.5, 2, 0, 2, 0, 0, 0, 0, 0, 0],\n",
    "\"會計系\": [1.5, 2, 0, 2, 0, 0, 0, 1, 1, 0],\n",
    "\"法律系\": [1, 2, 0, 1, 0, 0, 0, 1, 0, 1],\n",
    "\"公行系\": [1, 1.5, 0, 1.25, 0, 0, 0, 0, 0, 1.25],\n",
    "\"應數系\": [1, 1, 1.5, 0, 1, 1, 0, 0, 0, 0],\n",
    "\"教育系\": [1.5, 2, 0, 1.25, 0, 0, 0, 1, 1, 0]\n",
    "}\n",
    "\n",
    "df_wei = pd.DataFrame(data=wei,index=sub)#先做字典的DataFrame"
   ]
  },
  {
   "cell_type": "markdown",
   "id": "35ded0e4",
   "metadata": {},
   "source": [
    "### 解法一：題目要求的解法"
   ]
  },
  {
   "cell_type": "code",
   "execution_count": 13,
   "id": "c1bf9cda",
   "metadata": {},
   "outputs": [
    {
     "data": {
      "text/html": [
       "<div>\n",
       "<style scoped>\n",
       "    .dataframe tbody tr th:only-of-type {\n",
       "        vertical-align: middle;\n",
       "    }\n",
       "\n",
       "    .dataframe tbody tr th {\n",
       "        vertical-align: top;\n",
       "    }\n",
       "\n",
       "    .dataframe thead th {\n",
       "        text-align: right;\n",
       "    }\n",
       "</style>\n",
       "<table border=\"1\" class=\"dataframe\">\n",
       "  <thead>\n",
       "    <tr style=\"text-align: right;\">\n",
       "      <th></th>\n",
       "      <th>國文</th>\n",
       "      <th>英文</th>\n",
       "      <th>數甲</th>\n",
       "      <th>數乙</th>\n",
       "      <th>物理</th>\n",
       "      <th>化學</th>\n",
       "      <th>生物</th>\n",
       "      <th>歷史</th>\n",
       "      <th>地理</th>\n",
       "      <th>公民</th>\n",
       "      <th>加權分數</th>\n",
       "    </tr>\n",
       "  </thead>\n",
       "  <tbody>\n",
       "    <tr>\n",
       "      <th>土語系</th>\n",
       "      <td>2.0</td>\n",
       "      <td>2.0</td>\n",
       "      <td>0.0</td>\n",
       "      <td>1.00</td>\n",
       "      <td>0.0</td>\n",
       "      <td>0.0</td>\n",
       "      <td>0.0</td>\n",
       "      <td>1.0</td>\n",
       "      <td>1.0</td>\n",
       "      <td>0.00</td>\n",
       "      <td>589.200</td>\n",
       "    </tr>\n",
       "    <tr>\n",
       "      <th>財政系</th>\n",
       "      <td>1.0</td>\n",
       "      <td>1.5</td>\n",
       "      <td>0.0</td>\n",
       "      <td>1.50</td>\n",
       "      <td>0.0</td>\n",
       "      <td>0.0</td>\n",
       "      <td>0.0</td>\n",
       "      <td>0.0</td>\n",
       "      <td>0.0</td>\n",
       "      <td>0.00</td>\n",
       "      <td>350.350</td>\n",
       "    </tr>\n",
       "    <tr>\n",
       "      <th>金融系</th>\n",
       "      <td>1.0</td>\n",
       "      <td>1.5</td>\n",
       "      <td>0.0</td>\n",
       "      <td>2.00</td>\n",
       "      <td>0.0</td>\n",
       "      <td>0.0</td>\n",
       "      <td>0.0</td>\n",
       "      <td>0.0</td>\n",
       "      <td>0.0</td>\n",
       "      <td>0.00</td>\n",
       "      <td>398.600</td>\n",
       "    </tr>\n",
       "    <tr>\n",
       "      <th>國貿系</th>\n",
       "      <td>1.5</td>\n",
       "      <td>2.0</td>\n",
       "      <td>0.0</td>\n",
       "      <td>2.00</td>\n",
       "      <td>0.0</td>\n",
       "      <td>0.0</td>\n",
       "      <td>0.0</td>\n",
       "      <td>0.0</td>\n",
       "      <td>0.0</td>\n",
       "      <td>0.00</td>\n",
       "      <td>481.550</td>\n",
       "    </tr>\n",
       "    <tr>\n",
       "      <th>會計系</th>\n",
       "      <td>1.5</td>\n",
       "      <td>2.0</td>\n",
       "      <td>0.0</td>\n",
       "      <td>2.00</td>\n",
       "      <td>0.0</td>\n",
       "      <td>0.0</td>\n",
       "      <td>0.0</td>\n",
       "      <td>1.0</td>\n",
       "      <td>1.0</td>\n",
       "      <td>0.00</td>\n",
       "      <td>642.450</td>\n",
       "    </tr>\n",
       "    <tr>\n",
       "      <th>法律系</th>\n",
       "      <td>1.0</td>\n",
       "      <td>2.0</td>\n",
       "      <td>0.0</td>\n",
       "      <td>1.00</td>\n",
       "      <td>0.0</td>\n",
       "      <td>0.0</td>\n",
       "      <td>0.0</td>\n",
       "      <td>1.0</td>\n",
       "      <td>0.0</td>\n",
       "      <td>1.00</td>\n",
       "      <td>508.900</td>\n",
       "    </tr>\n",
       "    <tr>\n",
       "      <th>公行系</th>\n",
       "      <td>1.0</td>\n",
       "      <td>1.5</td>\n",
       "      <td>0.0</td>\n",
       "      <td>1.25</td>\n",
       "      <td>0.0</td>\n",
       "      <td>0.0</td>\n",
       "      <td>0.0</td>\n",
       "      <td>0.0</td>\n",
       "      <td>0.0</td>\n",
       "      <td>1.25</td>\n",
       "      <td>436.975</td>\n",
       "    </tr>\n",
       "    <tr>\n",
       "      <th>應數系</th>\n",
       "      <td>1.0</td>\n",
       "      <td>1.0</td>\n",
       "      <td>1.5</td>\n",
       "      <td>0.00</td>\n",
       "      <td>1.0</td>\n",
       "      <td>1.0</td>\n",
       "      <td>0.0</td>\n",
       "      <td>0.0</td>\n",
       "      <td>0.0</td>\n",
       "      <td>0.00</td>\n",
       "      <td>461.300</td>\n",
       "    </tr>\n",
       "    <tr>\n",
       "      <th>教育系</th>\n",
       "      <td>1.5</td>\n",
       "      <td>2.0</td>\n",
       "      <td>0.0</td>\n",
       "      <td>1.25</td>\n",
       "      <td>0.0</td>\n",
       "      <td>0.0</td>\n",
       "      <td>0.0</td>\n",
       "      <td>1.0</td>\n",
       "      <td>1.0</td>\n",
       "      <td>0.00</td>\n",
       "      <td>570.075</td>\n",
       "    </tr>\n",
       "  </tbody>\n",
       "</table>\n",
       "</div>"
      ],
      "text/plain": [
       "      國文   英文   數甲    數乙   物理   化學   生物   歷史   地理    公民     加權分數\n",
       "土語系  2.0  2.0  0.0  1.00  0.0  0.0  0.0  1.0  1.0  0.00  589.200\n",
       "財政系  1.0  1.5  0.0  1.50  0.0  0.0  0.0  0.0  0.0  0.00  350.350\n",
       "金融系  1.0  1.5  0.0  2.00  0.0  0.0  0.0  0.0  0.0  0.00  398.600\n",
       "國貿系  1.5  2.0  0.0  2.00  0.0  0.0  0.0  0.0  0.0  0.00  481.550\n",
       "會計系  1.5  2.0  0.0  2.00  0.0  0.0  0.0  1.0  1.0  0.00  642.450\n",
       "法律系  1.0  2.0  0.0  1.00  0.0  0.0  0.0  1.0  0.0  1.00  508.900\n",
       "公行系  1.0  1.5  0.0  1.25  0.0  0.0  0.0  0.0  0.0  1.25  436.975\n",
       "應數系  1.0  1.0  1.5  0.00  1.0  1.0  0.0  0.0  0.0  0.00  461.300\n",
       "教育系  1.5  2.0  0.0  1.25  0.0  0.0  0.0  1.0  1.0  0.00  570.075"
      ]
     },
     "execution_count": 13,
     "metadata": {},
     "output_type": "execute_result"
    }
   ],
   "source": [
    "weigra_1=[] #做一個空的list裝各系的加權總分\n",
    "for key,value in wei.items(): #遍訪加權字典的key和value\n",
    "    weigrasum_1 = np.dot(np.array(value),gra) #將權重與各科分數進行內積處理做成加權分數\n",
    "    weigra_1 += [weigrasum_1]\n",
    "    \n",
    "df_weigra_1 = pd.DataFrame(data=weigra_1,columns=[\"加權分數\"],index=wei) #將加權分數做成另個DataFrame\n",
    "df_wei_t=df_wei.T #將字典的DataFrame反轉\n",
    "\n",
    "df1 = pd.concat([df_wei_t,df_weigra_1],axis=1) #將兩個DataFrame二維資料合成\n",
    "df1"
   ]
  },
  {
   "cell_type": "markdown",
   "id": "c954f704",
   "metadata": {},
   "source": [
    "### 解法二：如果把各科加權後分數直接呈現在表格上......"
   ]
  },
  {
   "cell_type": "code",
   "execution_count": 14,
   "id": "8589a9f6",
   "metadata": {},
   "outputs": [
    {
     "data": {
      "text/html": [
       "<div>\n",
       "<style scoped>\n",
       "    .dataframe tbody tr th:only-of-type {\n",
       "        vertical-align: middle;\n",
       "    }\n",
       "\n",
       "    .dataframe tbody tr th {\n",
       "        vertical-align: top;\n",
       "    }\n",
       "\n",
       "    .dataframe thead th {\n",
       "        text-align: right;\n",
       "    }\n",
       "</style>\n",
       "<table border=\"1\" class=\"dataframe\">\n",
       "  <thead>\n",
       "    <tr style=\"text-align: right;\">\n",
       "      <th></th>\n",
       "      <th>國文</th>\n",
       "      <th>英文</th>\n",
       "      <th>數甲</th>\n",
       "      <th>數乙</th>\n",
       "      <th>物理</th>\n",
       "      <th>化學</th>\n",
       "      <th>生物</th>\n",
       "      <th>歷史</th>\n",
       "      <th>地理</th>\n",
       "      <th>公民</th>\n",
       "      <th>加權分數</th>\n",
       "    </tr>\n",
       "  </thead>\n",
       "  <tbody>\n",
       "    <tr>\n",
       "      <th>土語系</th>\n",
       "      <td>173.00</td>\n",
       "      <td>158.8</td>\n",
       "      <td>0.0</td>\n",
       "      <td>96.500</td>\n",
       "      <td>0.0</td>\n",
       "      <td>0.0</td>\n",
       "      <td>0.0</td>\n",
       "      <td>78.5</td>\n",
       "      <td>82.4</td>\n",
       "      <td>0.00</td>\n",
       "      <td>589.200</td>\n",
       "    </tr>\n",
       "    <tr>\n",
       "      <th>財政系</th>\n",
       "      <td>86.50</td>\n",
       "      <td>119.1</td>\n",
       "      <td>0.0</td>\n",
       "      <td>144.750</td>\n",
       "      <td>0.0</td>\n",
       "      <td>0.0</td>\n",
       "      <td>0.0</td>\n",
       "      <td>0.0</td>\n",
       "      <td>0.0</td>\n",
       "      <td>0.00</td>\n",
       "      <td>350.350</td>\n",
       "    </tr>\n",
       "    <tr>\n",
       "      <th>金融系</th>\n",
       "      <td>86.50</td>\n",
       "      <td>119.1</td>\n",
       "      <td>0.0</td>\n",
       "      <td>193.000</td>\n",
       "      <td>0.0</td>\n",
       "      <td>0.0</td>\n",
       "      <td>0.0</td>\n",
       "      <td>0.0</td>\n",
       "      <td>0.0</td>\n",
       "      <td>0.00</td>\n",
       "      <td>398.600</td>\n",
       "    </tr>\n",
       "    <tr>\n",
       "      <th>國貿系</th>\n",
       "      <td>129.75</td>\n",
       "      <td>158.8</td>\n",
       "      <td>0.0</td>\n",
       "      <td>193.000</td>\n",
       "      <td>0.0</td>\n",
       "      <td>0.0</td>\n",
       "      <td>0.0</td>\n",
       "      <td>0.0</td>\n",
       "      <td>0.0</td>\n",
       "      <td>0.00</td>\n",
       "      <td>481.550</td>\n",
       "    </tr>\n",
       "    <tr>\n",
       "      <th>會計系</th>\n",
       "      <td>129.75</td>\n",
       "      <td>158.8</td>\n",
       "      <td>0.0</td>\n",
       "      <td>193.000</td>\n",
       "      <td>0.0</td>\n",
       "      <td>0.0</td>\n",
       "      <td>0.0</td>\n",
       "      <td>78.5</td>\n",
       "      <td>82.4</td>\n",
       "      <td>0.00</td>\n",
       "      <td>642.450</td>\n",
       "    </tr>\n",
       "    <tr>\n",
       "      <th>法律系</th>\n",
       "      <td>86.50</td>\n",
       "      <td>158.8</td>\n",
       "      <td>0.0</td>\n",
       "      <td>96.500</td>\n",
       "      <td>0.0</td>\n",
       "      <td>0.0</td>\n",
       "      <td>0.0</td>\n",
       "      <td>78.5</td>\n",
       "      <td>0.0</td>\n",
       "      <td>88.60</td>\n",
       "      <td>508.900</td>\n",
       "    </tr>\n",
       "    <tr>\n",
       "      <th>公行系</th>\n",
       "      <td>86.50</td>\n",
       "      <td>119.1</td>\n",
       "      <td>0.0</td>\n",
       "      <td>120.625</td>\n",
       "      <td>0.0</td>\n",
       "      <td>0.0</td>\n",
       "      <td>0.0</td>\n",
       "      <td>0.0</td>\n",
       "      <td>0.0</td>\n",
       "      <td>110.75</td>\n",
       "      <td>436.975</td>\n",
       "    </tr>\n",
       "    <tr>\n",
       "      <th>應數系</th>\n",
       "      <td>86.50</td>\n",
       "      <td>79.4</td>\n",
       "      <td>132.3</td>\n",
       "      <td>0.000</td>\n",
       "      <td>86.3</td>\n",
       "      <td>76.8</td>\n",
       "      <td>0.0</td>\n",
       "      <td>0.0</td>\n",
       "      <td>0.0</td>\n",
       "      <td>0.00</td>\n",
       "      <td>461.300</td>\n",
       "    </tr>\n",
       "    <tr>\n",
       "      <th>教育系</th>\n",
       "      <td>129.75</td>\n",
       "      <td>158.8</td>\n",
       "      <td>0.0</td>\n",
       "      <td>120.625</td>\n",
       "      <td>0.0</td>\n",
       "      <td>0.0</td>\n",
       "      <td>0.0</td>\n",
       "      <td>78.5</td>\n",
       "      <td>82.4</td>\n",
       "      <td>0.00</td>\n",
       "      <td>570.075</td>\n",
       "    </tr>\n",
       "  </tbody>\n",
       "</table>\n",
       "</div>"
      ],
      "text/plain": [
       "         國文     英文     數甲       數乙    物理    化學   生物    歷史    地理      公民  \\\n",
       "土語系  173.00  158.8    0.0   96.500   0.0   0.0  0.0  78.5  82.4    0.00   \n",
       "財政系   86.50  119.1    0.0  144.750   0.0   0.0  0.0   0.0   0.0    0.00   \n",
       "金融系   86.50  119.1    0.0  193.000   0.0   0.0  0.0   0.0   0.0    0.00   \n",
       "國貿系  129.75  158.8    0.0  193.000   0.0   0.0  0.0   0.0   0.0    0.00   \n",
       "會計系  129.75  158.8    0.0  193.000   0.0   0.0  0.0  78.5  82.4    0.00   \n",
       "法律系   86.50  158.8    0.0   96.500   0.0   0.0  0.0  78.5   0.0   88.60   \n",
       "公行系   86.50  119.1    0.0  120.625   0.0   0.0  0.0   0.0   0.0  110.75   \n",
       "應數系   86.50   79.4  132.3    0.000  86.3  76.8  0.0   0.0   0.0    0.00   \n",
       "教育系  129.75  158.8    0.0  120.625   0.0   0.0  0.0  78.5  82.4    0.00   \n",
       "\n",
       "        加權分數  \n",
       "土語系  589.200  \n",
       "財政系  350.350  \n",
       "金融系  398.600  \n",
       "國貿系  481.550  \n",
       "會計系  642.450  \n",
       "法律系  508.900  \n",
       "公行系  436.975  \n",
       "應數系  461.300  \n",
       "教育系  570.075  "
      ]
     },
     "execution_count": 14,
     "metadata": {},
     "output_type": "execute_result"
    }
   ],
   "source": [
    "weidata = [] #做一個空的list裝各科加權後的分數\n",
    "for i in range(10): #做各科加權後分數的資料（為一個二維的串列）\n",
    "    y = np.array(df_wei.iloc[i])\n",
    "    x = y*gra[i]\n",
    "    weidata.append(x)\n",
    "weighteddata = np.array(weidata).T\n",
    "\n",
    "weigra_2=[] #做一個空的list裝各系的加權總分\n",
    "for i in range(9):\n",
    "    weigrasum_2 = np.sum(weighteddata[i])\n",
    "    weigra_2.append(weigrasum_2)\n",
    "\n",
    "Result = np.insert(weighteddata,10,np.array(weigra_2),axis=1)\n",
    "sub += [\"加權分數\"] #這邊最大的缺點就是當重複執行這個cell時，\"加權分數\"這個元素會一直重複加到list裡面\n",
    "df2 = pd.DataFrame(data=Result,columns=sub,index=wei)\n",
    "df2"
   ]
  },
  {
   "cell_type": "markdown",
   "id": "4c32dc32",
   "metadata": {},
   "source": [
    "### NOTE&PROBLEM ："
   ]
  },
  {
   "cell_type": "markdown",
   "id": "8e474f5b",
   "metadata": {},
   "source": [
    "# 挑戰題一：Bubble Sort"
   ]
  },
  {
   "cell_type": "code",
   "execution_count": 15,
   "id": "2030cafa",
   "metadata": {},
   "outputs": [],
   "source": [
    "def bubble_sort(x):\n",
    "    n = len(x) #先取串列長度\n",
    "    for i in range(n): #利用迴圈遍訪每一個串列元素\n",
    "        for j in range(n-i-1): #把最大的數搬到最右邊\n",
    "            if x[j] > x[j+1]:\n",
    "                x[j], x[j+1] = x[j+1], x[j]\n",
    "    print(x)"
   ]
  },
  {
   "cell_type": "code",
   "execution_count": 16,
   "id": "0151bf8c",
   "metadata": {},
   "outputs": [
    {
     "name": "stdout",
     "output_type": "stream",
     "text": [
      "[11, 12, 20, 22, 25, 33, 34, 64, 90]\n"
     ]
    }
   ],
   "source": [
    "bubble_sort([64, 34, 25, 12, 22, 11, 90,33,20])"
   ]
  },
  {
   "cell_type": "markdown",
   "id": "80092189",
   "metadata": {},
   "source": [
    "### NOTE&PROBLEM ："
   ]
  },
  {
   "cell_type": "markdown",
   "id": "1c3a3669",
   "metadata": {},
   "source": [
    "- 這個BubbleSort的邏輯，   \n",
    "  就是利用雙重迴圈先把最大的數字送到最右邊，  \n",
    "  從第一個數開始比，和右邊的數一起比較，  \n",
    "  如果第一個數是最大的就會一路過關斬將到最右邊，  \n",
    "  如果遇到比她更大的數就換那個更大的數過關斬將到最右邊，  \n",
    "  在內層迴圈第一次結束時最大的數就會到最右邊了，  \n",
    "  再來就會開始執行外層迴圈i=1，  \n",
    "  將第二大的數撿選出來，  \n",
    "  以此類推直到外層迴圈結束。"
   ]
  },
  {
   "cell_type": "markdown",
   "id": "eb73cbda",
   "metadata": {},
   "source": [
    "# 自行發揮：Macroeconomic Material of Taiwan"
   ]
  },
  {
   "cell_type": "markdown",
   "id": "c6f4a9fc",
   "metadata": {},
   "source": [
    "結合所學，這題想要嘗試將國民所得會計帳以堆疊長條圖與折線圖，  \n",
    "將DataFrame視覺化。  \n",
    "目的是為了簡易呈現每年台灣的GDP組成為何，  \n",
    "以下採用的資料來源為中華民國統計資訊網，  \n",
    "以1981年後的名目GDP作為樣本資料。  "
   ]
  },
  {
   "cell_type": "markdown",
   "id": "0843a4ab",
   "metadata": {},
   "source": [
    "### 淺談國民所得會計帳："
   ]
  },
  {
   "cell_type": "markdown",
   "id": "84736c1e",
   "metadata": {},
   "source": [
    "又稱最終用途衡量法，從最終產品購買者的支出面來估計。\n",
    "\n",
    "GDP = C + I + G + (X - M)\n",
    "\n",
    "當中C = 私人消費開支，I = 投資總額， G = 政府消費開支，X = 出口毛額，M = 進口毛額\n",
    "\n",
    "由於出口毛額減去進口毛額等於淨出口（NX），所以公式可表示成：\n",
    "\n",
    "GDP = C + I + G + NX"
   ]
  },
  {
   "cell_type": "code",
   "execution_count": 17,
   "id": "7ecc3cca",
   "metadata": {},
   "outputs": [],
   "source": [
    "#將csv讀入\n",
    "df_mac = pd.read_csv(\"1981Macroeco.csv\",index_col=\"Year\")#index_col可將欄換成索引"
   ]
  },
  {
   "cell_type": "code",
   "execution_count": 18,
   "id": "b6f1bde6",
   "metadata": {},
   "outputs": [
    {
     "data": {
      "text/html": [
       "<div>\n",
       "<style scoped>\n",
       "    .dataframe tbody tr th:only-of-type {\n",
       "        vertical-align: middle;\n",
       "    }\n",
       "\n",
       "    .dataframe tbody tr th {\n",
       "        vertical-align: top;\n",
       "    }\n",
       "\n",
       "    .dataframe thead th {\n",
       "        text-align: right;\n",
       "    }\n",
       "</style>\n",
       "<table border=\"1\" class=\"dataframe\">\n",
       "  <thead>\n",
       "    <tr style=\"text-align: right;\">\n",
       "      <th></th>\n",
       "      <th>Consumer</th>\n",
       "      <th>Government</th>\n",
       "      <th>Investment</th>\n",
       "      <th>Exports</th>\n",
       "      <th>Imports</th>\n",
       "      <th>GDP</th>\n",
       "    </tr>\n",
       "    <tr>\n",
       "      <th>Year</th>\n",
       "      <th></th>\n",
       "      <th></th>\n",
       "      <th></th>\n",
       "      <th></th>\n",
       "      <th></th>\n",
       "      <th></th>\n",
       "    </tr>\n",
       "  </thead>\n",
       "  <tbody>\n",
       "    <tr>\n",
       "      <th>1981</th>\n",
       "      <td>926401</td>\n",
       "      <td>294426</td>\n",
       "      <td>548324</td>\n",
       "      <td>917245</td>\n",
       "      <td>881965</td>\n",
       "      <td>1804431</td>\n",
       "    </tr>\n",
       "    <tr>\n",
       "      <th>1982</th>\n",
       "      <td>1004087</td>\n",
       "      <td>329929</td>\n",
       "      <td>507763</td>\n",
       "      <td>947554</td>\n",
       "      <td>851310</td>\n",
       "      <td>1938023</td>\n",
       "    </tr>\n",
       "    <tr>\n",
       "      <th>1983</th>\n",
       "      <td>1085739</td>\n",
       "      <td>353179</td>\n",
       "      <td>551622</td>\n",
       "      <td>1117529</td>\n",
       "      <td>938623</td>\n",
       "      <td>2169446</td>\n",
       "    </tr>\n",
       "    <tr>\n",
       "      <th>1984</th>\n",
       "      <td>1187727</td>\n",
       "      <td>390268</td>\n",
       "      <td>589552</td>\n",
       "      <td>1322333</td>\n",
       "      <td>1071640</td>\n",
       "      <td>2418240</td>\n",
       "    </tr>\n",
       "    <tr>\n",
       "      <th>1985</th>\n",
       "      <td>1258803</td>\n",
       "      <td>420605</td>\n",
       "      <td>528202</td>\n",
       "      <td>1345612</td>\n",
       "      <td>1018166</td>\n",
       "      <td>2535056</td>\n",
       "    </tr>\n",
       "  </tbody>\n",
       "</table>\n",
       "</div>"
      ],
      "text/plain": [
       "      Consumer  Government  Investment  Exports  Imports      GDP\n",
       "Year                                                             \n",
       "1981    926401      294426      548324   917245   881965  1804431\n",
       "1982   1004087      329929      507763   947554   851310  1938023\n",
       "1983   1085739      353179      551622  1117529   938623  2169446\n",
       "1984   1187727      390268      589552  1322333  1071640  2418240\n",
       "1985   1258803      420605      528202  1345612  1018166  2535056"
      ]
     },
     "execution_count": 18,
     "metadata": {},
     "output_type": "execute_result"
    }
   ],
   "source": [
    "df_mac.head()#檢查DataFrame前面的資料"
   ]
  },
  {
   "cell_type": "code",
   "execution_count": 19,
   "id": "68e90f52",
   "metadata": {},
   "outputs": [
    {
     "data": {
      "image/png": "[encoded data removed]",
      "text/plain": [
       "<Figure size 1440x504 with 1 Axes>"
      ]
     },
     "metadata": {
      "needs_background": "light"
     },
     "output_type": "display_data"
    }
   ],
   "source": [
    "plt.figure(figsize=(20,7)) #設定圖表大小\n",
    "#設定政府支出\n",
    "plt.bar(df_mac.index,df_mac['Government'],\n",
    "        color=\"tomato\",\n",
    "        label=\"Government\")\n",
    "#設定投資總額\n",
    "plt.bar(df_mac.index,df_mac['Investment'],\n",
    "        color=\"orange\",\n",
    "        bottom=np.array(df_mac['Government']),#用bottom的方式堆疊長條圖\n",
    "        label=\"Investment\")\n",
    "#設定民間消費\n",
    "plt.bar(df_mac.index,df_mac['Consumer'],\n",
    "        color=\"firebrick\",\n",
    "        bottom=np.array(df_mac['Government'])+np.array(df_mac['Investment']),\n",
    "        label=\"Consumer\")\n",
    "#設定淨出口\n",
    "plt.bar(df_mac.index,np.array(df_mac['Exports'])-np.array(df_mac['Imports']),#出口毛額減進口毛額的資料\n",
    "        color=\"pink\",\n",
    "        bottom=np.array(df_mac['Government'])+np.array(df_mac['Investment'])+np.array(df_mac['Consumer']),\n",
    "        label=\"NX\")\n",
    "#設定GDP\n",
    "plt.plot(df_mac.index,df_mac['GDP'],\n",
    "         color=\"red\",\n",
    "         label=\"GDP\")\n",
    "#設定Legend\n",
    "plt.legend(bbox_to_anchor=(0.15,0.9)) #bbox_to_anchor調整Legend的位置\n",
    "plt.show()"
   ]
  },
  {
   "cell_type": "markdown",
   "id": "d88f33c4",
   "metadata": {},
   "source": [
    "- 由上方長條堆疊圖可知，每年GDP組成的最大宗為民間消費。"
   ]
  },
  {
   "cell_type": "markdown",
   "id": "bd6664f6",
   "metadata": {},
   "source": [
    "- 以上使用的是名目資料，尚未將通貨膨脹的因素考慮進去。  \n",
    "  所以無法呈現實質經濟成長率。"
   ]
  }
 ],
 "metadata": {
  "kernelspec": {
   "display_name": "Python 3",
   "language": "python",
   "name": "python3"
  },
  "language_info": {
   "codemirror_mode": {
    "name": "ipython",
    "version": 3
   },
   "file_extension": ".py",
   "mimetype": "text/x-python",
   "name": "python",
   "nbconvert_exporter": "python",
   "pygments_lexer": "ipython3",
   "version": "3.8.8"
  }
 },
 "nbformat": 4,
 "nbformat_minor": 5
}
