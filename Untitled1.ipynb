{
 "cells": [
  {
   "cell_type": "code",
   "execution_count": 2,
   "id": "cfb55d37",
   "metadata": {},
   "outputs": [],
   "source": [
    "def crawl_data(date,symbol):\n",
    "    #下載股價\n",
    "    r = requests.get('https://www.twse.com.tw/exchangeReport/MI_INDEX?response=csv&date='+date+'&type=ALLBUT0999')\n",
    "    r_text = [i for i in r.text.split('\\n') if len(i.split('\",'))==17 and i[0] != '=' ]\n",
    "    df = pd.read_csv(StringIO(\"\\n\".join(r_text)),header= 0)\n",
    "    \n",
    "    df = df.drop(columns = ['Unnamed: 16'])\n",
    "    filter_df = df[df[\"證券代號\"]==symbol]\n",
    "    filter_df.insert(0,\"日期\",date)\n",
    "    return list(filter_df.iloc[0]),filter_df.columns"
   ]
  },
  {
   "cell_type": "code",
   "execution_count": 1,
   "id": "8801e396",
   "metadata": {},
   "outputs": [],
   "source": [
    "import requests\n",
    "from io import StringIO\n",
    "import pandas as pd"
   ]
  },
  {
   "cell_type": "code",
   "execution_count": 3,
   "id": "f9b7afd0",
   "metadata": {},
   "outputs": [
    {
     "data": {
      "text/plain": [
       "(['20220106',\n",
       "  '2330',\n",
       "  '台積電',\n",
       "  '57,490,736',\n",
       "  '53,430',\n",
       "  '36,817,638,522',\n",
       "  '638.00',\n",
       "  '646.00',\n",
       "  '636.00',\n",
       "  '644.00',\n",
       "  '-',\n",
       "  6.0,\n",
       "  '643.00',\n",
       "  '24',\n",
       "  '644.00',\n",
       "  '183',\n",
       "  '29.14'],\n",
       " Index(['日期', '證券代號', '證券名稱', '成交股數', '成交筆數', '成交金額', '開盤價', '最高價', '最低價',\n",
       "        '收盤價', '漲跌(+/-)', '漲跌價差', '最後揭示買價', '最後揭示買量', '最後揭示賣價', '最後揭示賣量',\n",
       "        '本益比'],\n",
       "       dtype='object'))"
      ]
     },
     "execution_count": 3,
     "metadata": {},
     "output_type": "execute_result"
    }
   ],
   "source": [
    "crawl_data(\"20220106\",\"2330\")"
   ]
  },
  {
   "cell_type": "code",
   "execution_count": null,
   "id": "f731d97e",
   "metadata": {},
   "outputs": [],
   "source": []
  }
 ],
 "metadata": {
  "kernelspec": {
   "display_name": "Python 3",
   "language": "python",
   "name": "python3"
  },
  "language_info": {
   "codemirror_mode": {
    "name": "ipython",
    "version": 3
   },
   "file_extension": ".py",
   "mimetype": "text/x-python",
   "name": "python",
   "nbconvert_exporter": "python",
   "pygments_lexer": "ipython3",
   "version": "3.8.8"
  }
 },
 "nbformat": 4,
 "nbformat_minor": 5
}
