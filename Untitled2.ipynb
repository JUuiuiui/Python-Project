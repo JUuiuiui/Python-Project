{
 "cells": [
  {
   "cell_type": "code",
   "execution_count": 4,
   "id": "05140074",
   "metadata": {},
   "outputs": [],
   "source": [
    "import requests\n",
    "from io import StringIO\n",
    "import pandas as pd\n",
    "import datetime\n",
    "\n",
    "#讀取設定檔函式\n",
    "def get_setting():\n",
    "    res = []\n",
    "    try:\n",
    "        with open('stock.txt') as f:\n",
    "            slist = f.readlines()\n",
    "            print('讀入：',slist)\n",
    "            a, b, c = slist[0].split(',')\n",
    "            res = [a, b, c]\n",
    "    except:\n",
    "        print('stock.txt讀取錯誤')\n",
    "    return res\n",
    "\n",
    "#篩選工作日函式\n",
    "def get_data():\n",
    "    data = get_setting()\n",
    "    dates = []\n",
    "    start_date = datetime.datetime.strptime(data[1],'%Y%m%d')\n",
    "    end_date = datetime.datetime.strptime(data[2],'%Y%m%d')\n",
    "    for daynumber in range((end_date-start_date).days+1):\n",
    "        date = (start_date + datetime.timedelta(days = daynumber))\n",
    "        if date.weekday()<6:\n",
    "            dates.append(date.strftime('%Y%m%d'))\n",
    "    return data[0], dates\n",
    "\n",
    "#爬蟲函式\n",
    "def crawl_data(date,symbol):\n",
    "    #下載股價\n",
    "    r = requests.get('https://www.twse.com.tw/exchangeReport/MI_INDEX?response=csv&date='+date+'&type=ALLBUT0999')\n",
    "    r_text = [i for i in r.text.split('\\n') if len(i.split('\",'))==17 and i[0] != '=' ]\n",
    "    df = pd.read_csv(StringIO(\"\\n\".join(r_text)),header= 0)\n",
    "    \n",
    "    df = df.drop(columns = ['Unnamed: 16'])\n",
    "    filter_df = df[df[\"證券代號\"]==symbol]\n",
    "    filter_df.insert(0,\"日期\",date)\n",
    "    return list(filter_df.iloc[0]),filter_df.columns"
   ]
  },
  {
   "cell_type": "code",
   "execution_count": 5,
   "id": "eac8da86",
   "metadata": {},
   "outputs": [
    {
     "name": "stdout",
     "output_type": "stream",
     "text": [
      "stock.txt讀取錯誤\n"
     ]
    },
    {
     "ename": "IndexError",
     "evalue": "list index out of range",
     "output_type": "error",
     "traceback": [
      "\u001b[0;31m---------------------------------------------------------------------------\u001b[0m",
      "\u001b[0;31mIndexError\u001b[0m                                Traceback (most recent call last)",
      "\u001b[0;32m<ipython-input-5-a8709e420dd8>\u001b[0m in \u001b[0;36m<module>\u001b[0;34m\u001b[0m\n\u001b[1;32m      3\u001b[0m \u001b[0;34m\u001b[0m\u001b[0m\n\u001b[1;32m      4\u001b[0m \u001b[0mall_list\u001b[0m \u001b[0;34m=\u001b[0m \u001b[0;34m[\u001b[0m\u001b[0;34m]\u001b[0m\u001b[0;34m\u001b[0m\u001b[0;34m\u001b[0m\u001b[0m\n\u001b[0;32m----> 5\u001b[0;31m \u001b[0mstock_symbol\u001b[0m\u001b[0;34m,\u001b[0m \u001b[0mdates\u001b[0m \u001b[0;34m=\u001b[0m \u001b[0mget_data\u001b[0m\u001b[0;34m(\u001b[0m\u001b[0;34m)\u001b[0m\u001b[0;34m\u001b[0m\u001b[0;34m\u001b[0m\u001b[0m\n\u001b[0m\u001b[1;32m      6\u001b[0m \u001b[0;32mfor\u001b[0m \u001b[0mdate\u001b[0m \u001b[0;32min\u001b[0m \u001b[0mdates\u001b[0m\u001b[0;34m:\u001b[0m\u001b[0;34m\u001b[0m\u001b[0;34m\u001b[0m\u001b[0m\n\u001b[1;32m      7\u001b[0m     \u001b[0msleep\u001b[0m\u001b[0;34m(\u001b[0m\u001b[0;36m5\u001b[0m\u001b[0;34m)\u001b[0m\u001b[0;34m\u001b[0m\u001b[0;34m\u001b[0m\u001b[0m\n",
      "\u001b[0;32m<ipython-input-4-fcd6b7767317>\u001b[0m in \u001b[0;36mget_data\u001b[0;34m()\u001b[0m\n\u001b[1;32m     21\u001b[0m     \u001b[0mdata\u001b[0m \u001b[0;34m=\u001b[0m \u001b[0mget_setting\u001b[0m\u001b[0;34m(\u001b[0m\u001b[0;34m)\u001b[0m\u001b[0;34m\u001b[0m\u001b[0;34m\u001b[0m\u001b[0m\n\u001b[1;32m     22\u001b[0m     \u001b[0mdates\u001b[0m \u001b[0;34m=\u001b[0m \u001b[0;34m[\u001b[0m\u001b[0;34m]\u001b[0m\u001b[0;34m\u001b[0m\u001b[0;34m\u001b[0m\u001b[0m\n\u001b[0;32m---> 23\u001b[0;31m     \u001b[0mstart_date\u001b[0m \u001b[0;34m=\u001b[0m \u001b[0mdatetime\u001b[0m\u001b[0;34m.\u001b[0m\u001b[0mdatetime\u001b[0m\u001b[0;34m.\u001b[0m\u001b[0mstrptime\u001b[0m\u001b[0;34m(\u001b[0m\u001b[0mdata\u001b[0m\u001b[0;34m[\u001b[0m\u001b[0;36m0\u001b[0m\u001b[0;34m]\u001b[0m\u001b[0;34m,\u001b[0m\u001b[0;34m'%Y%m%d'\u001b[0m\u001b[0;34m)\u001b[0m\u001b[0;34m\u001b[0m\u001b[0;34m\u001b[0m\u001b[0m\n\u001b[0m\u001b[1;32m     24\u001b[0m     \u001b[0mend_date\u001b[0m \u001b[0;34m=\u001b[0m \u001b[0mdatetime\u001b[0m\u001b[0;34m.\u001b[0m\u001b[0mdatetime\u001b[0m\u001b[0;34m.\u001b[0m\u001b[0mstrptime\u001b[0m\u001b[0;34m(\u001b[0m\u001b[0mdata\u001b[0m\u001b[0;34m[\u001b[0m\u001b[0;36m1\u001b[0m\u001b[0;34m]\u001b[0m\u001b[0;34m,\u001b[0m\u001b[0;34m'%Y%m%d'\u001b[0m\u001b[0;34m)\u001b[0m\u001b[0;34m\u001b[0m\u001b[0;34m\u001b[0m\u001b[0m\n\u001b[1;32m     25\u001b[0m     \u001b[0;32mfor\u001b[0m \u001b[0mdaynumber\u001b[0m \u001b[0;32min\u001b[0m \u001b[0mrange\u001b[0m\u001b[0;34m(\u001b[0m\u001b[0;34m(\u001b[0m\u001b[0mend_date\u001b[0m\u001b[0;34m-\u001b[0m\u001b[0mstart_date\u001b[0m\u001b[0;34m)\u001b[0m\u001b[0;34m.\u001b[0m\u001b[0mdays\u001b[0m\u001b[0;34m+\u001b[0m\u001b[0;36m1\u001b[0m\u001b[0;34m)\u001b[0m\u001b[0;34m:\u001b[0m\u001b[0;34m\u001b[0m\u001b[0;34m\u001b[0m\u001b[0m\n",
      "\u001b[0;31mIndexError\u001b[0m: list index out of range"
     ]
    }
   ],
   "source": [
    "from time import sleep\n",
    "import pandas as pd\n",
    "\n",
    "all_list = []\n",
    "stock_symbol, dates = get_data()\n",
    "for date in dates:\n",
    "    sleep(5)\n",
    "    try:\n",
    "        crawler_data = crawl_data(date, stock_symbol)\n",
    "        all_list.append(crawler_data[0])\n",
    "        df_columns = crawler_data[0]\n",
    "        print(\"OK! date = \" + date + \",stock_symbol = \" + stock_symbol)\n",
    "    except:\n",
    "        print(\"error! date = \" + date + \",stock_symbol = \" + stock_symbol)\n",
    "\n",
    "all_df = pd.DataFrame(all_list, columns=df_columns)\n",
    "print(all_df)"
   ]
  },
  {
   "cell_type": "code",
   "execution_count": 7,
   "id": "97578f6d",
   "metadata": {},
   "outputs": [
    {
     "data": {
      "text/plain": [
       "(['20220106',\n",
       "  '2330',\n",
       "  '台積電',\n",
       "  '57,490,736',\n",
       "  '53,430',\n",
       "  '36,817,638,522',\n",
       "  '638.00',\n",
       "  '646.00',\n",
       "  '636.00',\n",
       "  '644.00',\n",
       "  '-',\n",
       "  6.0,\n",
       "  '643.00',\n",
       "  '24',\n",
       "  '644.00',\n",
       "  '183',\n",
       "  '29.14'],\n",
       " Index(['日期', '證券代號', '證券名稱', '成交股數', '成交筆數', '成交金額', '開盤價', '最高價', '最低價',\n",
       "        '收盤價', '漲跌(+/-)', '漲跌價差', '最後揭示買價', '最後揭示買量', '最後揭示賣價', '最後揭示賣量',\n",
       "        '本益比'],\n",
       "       dtype='object'))"
      ]
     },
     "execution_count": 7,
     "metadata": {},
     "output_type": "execute_result"
    }
   ],
   "source": [
    "crawl_data(\"20220106\",\"2330\")"
   ]
  },
  {
   "cell_type": "code",
   "execution_count": null,
   "id": "e828c730",
   "metadata": {},
   "outputs": [],
   "source": []
  }
 ],
 "metadata": {
  "kernelspec": {
   "display_name": "Python 3",
   "language": "python",
   "name": "python3"
  },
  "language_info": {
   "codemirror_mode": {
    "name": "ipython",
    "version": 3
   },
   "file_extension": ".py",
   "mimetype": "text/x-python",
   "name": "python",
   "nbconvert_exporter": "python",
   "pygments_lexer": "ipython3",
   "version": "3.8.8"
  }
 },
 "nbformat": 4,
 "nbformat_minor": 5
}
